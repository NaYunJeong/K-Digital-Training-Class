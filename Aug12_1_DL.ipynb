{
  "nbformat": 4,
  "nbformat_minor": 0,
  "metadata": {
    "colab": {
      "provenance": [],
      "authorship_tag": "ABX9TyM7Zmwn7xJ/OADn7Je5sxp5",
      "include_colab_link": true
    },
    "kernelspec": {
      "name": "python3",
      "display_name": "Python 3"
    },
    "language_info": {
      "name": "python"
    }
  },
  "cells": [
    {
      "cell_type": "markdown",
      "metadata": {
        "id": "view-in-github",
        "colab_type": "text"
      },
      "source": [
        "<a href=\"https://colab.research.google.com/github/NaYunJeong/K-Digital-Training-Class/blob/main/Aug12_1_DL.ipynb\" target=\"_parent\"><img src=\"https://colab.research.google.com/assets/colab-badge.svg\" alt=\"Open In Colab\"/></a>"
      ]
    },
    {
      "cell_type": "markdown",
      "source": [
        "# 딥러닝 (Deep Learning)\n",
        "\n",
        "머신러닝의 한 종류\n",
        "\n",
        "여러 층을 [신경망]을 사용해서 머신러닝을 수행하는 것\n",
        "\n",
        "머신러닝과의 가장 큰 차이점 : [특징량 추출]\n",
        "\n",
        "이전에는 모델한테 사람이 하나하나 가르쳐야했음\n",
        "\n",
        "딥러닝을 이용해서 컴퓨터가 자동적으로 특징을 [스스로] 학습 할 수 있도록"
      ],
      "metadata": {
        "id": "muE8qu1J9iv5"
      }
    },
    {
      "cell_type": "markdown",
      "source": [
        "# 신경망 (Neural Network)\n",
        "\n",
        "사람의 신경망을 본따서 만든 네트워크 구조를 의미\n",
        "\n",
        "컴퓨터에 학습 능력을 갖게 해서 다양한 문제를 해결할 수 있게 하는 접근 방법\n",
        "\n",
        "신경망은 다양한 뉴런(신경세포)이 연결되어있는 구조를 가지고 있는 네트워크 망"
      ],
      "metadata": {
        "id": "qimImgZW-g8h"
      }
    },
    {
      "cell_type": "markdown",
      "source": [
        "# 퍼셉트론 (Perceptron)\n",
        "\n",
        "인공 신경망으로 다수의 입력으로부터 하나의 결과를 내보내는 알고리즘\n",
        "\n",
        "비교적 단순한 구조를 가지고 있고, 현재 기계학습의 기초가 되는 개념\n",
        "\n",
        "입력층과 출력층으로 구성된 단순 퍼셉트론\n",
        "\n",
        "조건 :\n",
        "- 1. 이번달 수입에 여유가 있는지\n",
        "- 2. 지금 옷장에 옷이 없는지\n",
        "- 3. 지금 당장 옷이 필요한지 (옷에 문제가 있는지)\n",
        "\n",
        "사람에 따라서, 경우에 따라서 3가지 조건중에 중요하다고 생각하는 비율이 다 다를 것!\n",
        "\n",
        "퍼셉트론 : 각 입력(조건)에 대한 [가중치]를 도입\n",
        "\n",
        "다양한 조건 및 가중치를 기반으로 구입할지의 여부를 정하는 것 : 역치(선택의 기준이 되는 값)\n",
        "\n",
        "가중치와 역치를 고려해서 의사결정상황에 따라 반영이 가능!!"
      ],
      "metadata": {
        "id": "BZeGOBrG_ZDQ"
      }
    },
    {
      "cell_type": "code",
      "execution_count": null,
      "metadata": {
        "id": "3VxHw9K_9efD"
      },
      "outputs": [],
      "source": []
    }
  ]
}