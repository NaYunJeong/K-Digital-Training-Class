{
  "nbformat": 4,
  "nbformat_minor": 0,
  "metadata": {
    "colab": {
      "provenance": [],
      "authorship_tag": "ABX9TyNHMKIB+tWPV6nBxuwURLfO",
      "include_colab_link": true
    },
    "kernelspec": {
      "name": "python3",
      "display_name": "Python 3"
    },
    "language_info": {
      "name": "python"
    }
  },
  "cells": [
    {
      "cell_type": "markdown",
      "metadata": {
        "id": "view-in-github",
        "colab_type": "text"
      },
      "source": [
        "<a href=\"https://colab.research.google.com/github/NaYunJeong/K-Digital-Training-Class/blob/main/Aug09_1_DecisionTree.ipynb\" target=\"_parent\"><img src=\"https://colab.research.google.com/assets/colab-badge.svg\" alt=\"Open In Colab\"/></a>"
      ]
    },
    {
      "cell_type": "markdown",
      "source": [
        "# Decision Tree (의사결정나무) = 가지치기\n",
        "\n",
        "머신러닝 - 지도학습 - 분류\n",
        "\n",
        "입력값에 대한 예측값을 나무 형태로 나타내주는 모델\n",
        "\n",
        "데이터를 분류하거나 연속된 값을 예측하기 위해서 사용하는 트리(Tree) 구조의 모델\n",
        "\n",
        "트리 구조는 사람이 이해하기 쉽고, 각 노드의 조건이 어떤 결정을 내리는지를 명확하게 보여줌\n",
        "\n",
        "이 모델은 계층적인 방식으로 의사결정을 내리며, 각 단계에서 데이터를 특정 기준에 따라 나누는 과정을 통해서 최종 결과를 도출 => 데이터들의 분포를 나눠줌\n",
        "\n",
        "데이터를 어떤 기준으로 분류했을 때 동일한 객체들로 잘 모아지게 할 수 있을까? 를 고려해서 분류기준을 찾는 것이 중요!\n",
        "\n",
        "각 노드에서 데이터를 분할하는 일련의 의사결정 과정을 통해서 최종 결과를 도출\n",
        "\n",
        "- 특징\n",
        "  1. 알고리즘 해석이 쉬운 편\n",
        "  2. 수치형, 범주(카테고리)형 데이터도 적용 가능 O\n",
        "  3. 데이터 전처리 양이 적은 편"
      ],
      "metadata": {
        "id": "pXXgmjv6f5V8"
      }
    },
    {
      "cell_type": "code",
      "execution_count": 11,
      "metadata": {
        "colab": {
          "base_uri": "https://localhost:8080/"
        },
        "id": "WwIPqx6PeEIS",
        "outputId": "a78f81eb-8994-4e59-e356-5dc9c165d58d"
      },
      "outputs": [
        {
          "output_type": "stream",
          "name": "stdout",
          "text": [
            "['sepal length (cm)', 'sepal width (cm)', 'petal length (cm)', 'petal width (cm)']\n",
            "['setosa' 'versicolor' 'virginica']\n"
          ]
        }
      ],
      "source": [
        "from sklearn import datasets\n",
        "\n",
        "iris = datasets.load_iris()\n",
        "print(iris.feature_names)   # feature (data, 열, columns) 이름\n",
        "print(iris.target_names)    # target (label) 이름"
      ]
    },
    {
      "cell_type": "code",
      "source": [
        "# scikit-learn이 제공하는 의사결정나무 모델 : DecisionTreeClassifier\n",
        "from sklearn.tree import DecisionTreeClassifier"
      ],
      "metadata": {
        "id": "ePMbVxlwh-y1"
      },
      "execution_count": 12,
      "outputs": []
    },
    {
      "cell_type": "code",
      "source": [
        "feature = iris.data          # feature 가져오기\n",
        "labels = iris.target         # label 가져오기 (iris 품종 데이터)\n",
        "\n",
        "p_feature = feature[:, 2:]   # 붓꽃 꽃잎의 길이와 넓이\n",
        "\n",
        "iris_tree = DecisionTreeClassifier(criterion='entropy', max_depth=3)\n",
        "# DecisionTreeClassifier : 의사결정나무 모델\n",
        "# criterion='entropy' : 엔트로피를 불순도 계산방법으로 적용\n",
        "#   엔트로피(entropy) : 혼잡도, 학습 시작 단계에서는 분류할 것들이 많아서 엔트로피가 높은 상태\n",
        "#                       하나씩 정리해가면서 엔트로피를 줄여 최종적으로 0에 가깝게 만드는 방식\n",
        "# criterion='gini'  (default) : 분류를 잘못할 확률을 최소화 하기 위한 목적\n",
        "#  > 분할이 가능한 모든 방법을 지니계수를 확인 > 가장 낮은 것을 선택하는 방식\n",
        "#   지니계수 : 얼마나 불확실한가에 대한 지표로 0에 가까워질수록\n",
        "#   불확실성이 0에 가까워지는 것으로 => 같은 특성을 가진 개체들끼리 잘 모여있다는 뜻 !\n",
        "\n",
        "# max_depth = 3     : 깊이 (몇 단계로 나눠서 표현할 지)\n",
        "#   노드 (Node) : 데이터의 분기나 결정이 이루어지는 지점\n",
        "#       첫 시작점인 루트 노드(Root Node) , 중간 지점인 내부 노드(Internal Node), 최종 지점인 리프 노드(Leaf Node)로 구분\n",
        "#   나무(모델)의 깊이 : 루트노드에서 시작해서 리프 노드까지 이르는 경로에서 거쳐가는 노드의 단계의 수를 의미\n",
        "#   깊이를 제한하는 옵션으로, Tree가 지나치게 깊어지는 것을 방지!\n",
        "#   깊이를 제한하지 않으면 Tree에는 데이터가 과도하게 적합(overfitting)하게 될 가능성 O\n",
        "#   반대로 깊이가 얕은 Tree에는 학습이 덜 된 상태(underfitting)가 될 가능성 O\n",
        "#   깊이를 적절히 제한하면 모델의 복잡도를 줄이고, 과적합을 방지해 더 나은 성능을 기대 O!\n",
        "\n",
        "# 어떤 기준으로 분류를 하는가에 따라서 tree모양도 변하고, 깊이도 달라짐\n",
        "\n",
        "# 독립변수 : 원인 / (시험지)\n",
        "# 종속변수 : 결과 / (답안지)\n",
        "# 종속변수는 독립변수에 의해 영향을 받는다\n",
        "iris_tree.fit(p_feature, labels)  # .fit(독립변수, 종속변수)"
      ],
      "metadata": {
        "colab": {
          "base_uri": "https://localhost:8080/",
          "height": 75
        },
        "id": "Wc1TD6kFiS0H",
        "outputId": "d6eb97c3-738d-4ace-cd81-cc5b833608da"
      },
      "execution_count": 13,
      "outputs": [
        {
          "output_type": "execute_result",
          "data": {
            "text/plain": [
              "DecisionTreeClassifier(criterion='entropy', max_depth=3)"
            ],
            "text/html": [
              "<style>#sk-container-id-2 {color: black;}#sk-container-id-2 pre{padding: 0;}#sk-container-id-2 div.sk-toggleable {background-color: white;}#sk-container-id-2 label.sk-toggleable__label {cursor: pointer;display: block;width: 100%;margin-bottom: 0;padding: 0.3em;box-sizing: border-box;text-align: center;}#sk-container-id-2 label.sk-toggleable__label-arrow:before {content: \"▸\";float: left;margin-right: 0.25em;color: #696969;}#sk-container-id-2 label.sk-toggleable__label-arrow:hover:before {color: black;}#sk-container-id-2 div.sk-estimator:hover label.sk-toggleable__label-arrow:before {color: black;}#sk-container-id-2 div.sk-toggleable__content {max-height: 0;max-width: 0;overflow: hidden;text-align: left;background-color: #f0f8ff;}#sk-container-id-2 div.sk-toggleable__content pre {margin: 0.2em;color: black;border-radius: 0.25em;background-color: #f0f8ff;}#sk-container-id-2 input.sk-toggleable__control:checked~div.sk-toggleable__content {max-height: 200px;max-width: 100%;overflow: auto;}#sk-container-id-2 input.sk-toggleable__control:checked~label.sk-toggleable__label-arrow:before {content: \"▾\";}#sk-container-id-2 div.sk-estimator input.sk-toggleable__control:checked~label.sk-toggleable__label {background-color: #d4ebff;}#sk-container-id-2 div.sk-label input.sk-toggleable__control:checked~label.sk-toggleable__label {background-color: #d4ebff;}#sk-container-id-2 input.sk-hidden--visually {border: 0;clip: rect(1px 1px 1px 1px);clip: rect(1px, 1px, 1px, 1px);height: 1px;margin: -1px;overflow: hidden;padding: 0;position: absolute;width: 1px;}#sk-container-id-2 div.sk-estimator {font-family: monospace;background-color: #f0f8ff;border: 1px dotted black;border-radius: 0.25em;box-sizing: border-box;margin-bottom: 0.5em;}#sk-container-id-2 div.sk-estimator:hover {background-color: #d4ebff;}#sk-container-id-2 div.sk-parallel-item::after {content: \"\";width: 100%;border-bottom: 1px solid gray;flex-grow: 1;}#sk-container-id-2 div.sk-label:hover label.sk-toggleable__label {background-color: #d4ebff;}#sk-container-id-2 div.sk-serial::before {content: \"\";position: absolute;border-left: 1px solid gray;box-sizing: border-box;top: 0;bottom: 0;left: 50%;z-index: 0;}#sk-container-id-2 div.sk-serial {display: flex;flex-direction: column;align-items: center;background-color: white;padding-right: 0.2em;padding-left: 0.2em;position: relative;}#sk-container-id-2 div.sk-item {position: relative;z-index: 1;}#sk-container-id-2 div.sk-parallel {display: flex;align-items: stretch;justify-content: center;background-color: white;position: relative;}#sk-container-id-2 div.sk-item::before, #sk-container-id-2 div.sk-parallel-item::before {content: \"\";position: absolute;border-left: 1px solid gray;box-sizing: border-box;top: 0;bottom: 0;left: 50%;z-index: -1;}#sk-container-id-2 div.sk-parallel-item {display: flex;flex-direction: column;z-index: 1;position: relative;background-color: white;}#sk-container-id-2 div.sk-parallel-item:first-child::after {align-self: flex-end;width: 50%;}#sk-container-id-2 div.sk-parallel-item:last-child::after {align-self: flex-start;width: 50%;}#sk-container-id-2 div.sk-parallel-item:only-child::after {width: 0;}#sk-container-id-2 div.sk-dashed-wrapped {border: 1px dashed gray;margin: 0 0.4em 0.5em 0.4em;box-sizing: border-box;padding-bottom: 0.4em;background-color: white;}#sk-container-id-2 div.sk-label label {font-family: monospace;font-weight: bold;display: inline-block;line-height: 1.2em;}#sk-container-id-2 div.sk-label-container {text-align: center;}#sk-container-id-2 div.sk-container {/* jupyter's `normalize.less` sets `[hidden] { display: none; }` but bootstrap.min.css set `[hidden] { display: none !important; }` so we also need the `!important` here to be able to override the default hidden behavior on the sphinx rendered scikit-learn.org. See: https://github.com/scikit-learn/scikit-learn/issues/21755 */display: inline-block !important;position: relative;}#sk-container-id-2 div.sk-text-repr-fallback {display: none;}</style><div id=\"sk-container-id-2\" class=\"sk-top-container\"><div class=\"sk-text-repr-fallback\"><pre>DecisionTreeClassifier(criterion=&#x27;entropy&#x27;, max_depth=3)</pre><b>In a Jupyter environment, please rerun this cell to show the HTML representation or trust the notebook. <br />On GitHub, the HTML representation is unable to render, please try loading this page with nbviewer.org.</b></div><div class=\"sk-container\" hidden><div class=\"sk-item\"><div class=\"sk-estimator sk-toggleable\"><input class=\"sk-toggleable__control sk-hidden--visually\" id=\"sk-estimator-id-2\" type=\"checkbox\" checked><label for=\"sk-estimator-id-2\" class=\"sk-toggleable__label sk-toggleable__label-arrow\">DecisionTreeClassifier</label><div class=\"sk-toggleable__content\"><pre>DecisionTreeClassifier(criterion=&#x27;entropy&#x27;, max_depth=3)</pre></div></div></div></div></div>"
            ]
          },
          "metadata": {},
          "execution_count": 13
        }
      ]
    },
    {
      "cell_type": "code",
      "source": [
        "# dot파일 만들기\n",
        "from sklearn import tree\n",
        "with open('iris.dot', mode='w') as f:\n",
        "  tree.export_graphviz(iris_tree, out_file=f)\n",
        "# graphviz : 코드의 구조를 다이어그램 형태의 그림으로 표현해주는 도구\n",
        "# out_file : 파일 or 문자열로 반환"
      ],
      "metadata": {
        "id": "5di_a2-Wqmw6"
      },
      "execution_count": 14,
      "outputs": []
    },
    {
      "cell_type": "markdown",
      "source": [
        "dot -Tpng [dot파일명].dot -o [만들png파일명].png\n"
      ],
      "metadata": {
        "id": "V7DgN_FLtEgY"
      }
    },
    {
      "cell_type": "code",
      "source": [
        "from sklearn.datasets import load_iris\n",
        "from sklearn.tree import DecisionTreeClassifier\n",
        "from sklearn.tree import export_graphviz\n",
        "from subprocess import check_call\n",
        "\n",
        "iris = load_iris()  # iris dataset 가져오기\n",
        "x = iris.data[:, 2:]  # 붓꽃 꽃임의 길이, 넓이\n",
        "y = iris.target       # iris의 label\n",
        "\n",
        "tree = DecisionTreeClassifier(max_depth=4)\n",
        "tree.fit(x, y)\n",
        "\n",
        "export_graphviz(\n",
        "    tree,                       # 학습시킨 모델(모형)\n",
        "    out_file='./iris2.dot',     # dot 파일 저장 경로 설정\n",
        "    feature_names = iris.feature_names[2:],  # 사용한 열(feature, columns) 이름\n",
        "    class_names = iris.target_names,        # 예측할  target class 이름\n",
        "    filled = True,              # 사각형 안에 색 채우기\n",
        "    rounded = True              # 사각형 모서리를 둥글게\n",
        ")\n",
        "\n",
        "# png로 바꿔서 시각화\n",
        "# dot -Tpng iris2.dot -o iris.png\n",
        "from subprocess import check_call\n",
        "check_call(\n",
        "    ['dot', '-Tpng', 'iris2.dot', '-o', 'iris.png']\n",
        ")\n",
        "# check_call : 에러가 발생하면 에러를 return\n",
        "\n",
        "# dot : Graphviz 도구 중 하나인 dot 명령어, 그래프를 그림 형식으로 변환할 때 사용\n",
        "# -Tpng : 출력 파일의 형식을 지정하는 옵션\n",
        "# iris2.dot : 변환하고자 하는 입력 파일\n",
        "# -o : 출력 파일의 이름을 지정하기 위한 옵션\n",
        "# iris.png : -o 옵션에 의해 지정된 출력 파일의 이름\n"
      ],
      "metadata": {
        "colab": {
          "base_uri": "https://localhost:8080/"
        },
        "id": "3dCnsNnpsi9i",
        "outputId": "bd87e758-6a40-4e13-aadc-8edc085d6995"
      },
      "execution_count": 1,
      "outputs": [
        {
          "output_type": "execute_result",
          "data": {
            "text/plain": [
              "0"
            ]
          },
          "metadata": {},
          "execution_count": 1
        }
      ]
    },
    {
      "cell_type": "code",
      "source": [],
      "metadata": {
        "id": "P9uPB60vvrkR"
      },
      "execution_count": null,
      "outputs": []
    }
  ]
}