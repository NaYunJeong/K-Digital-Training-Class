{
  "nbformat": 4,
  "nbformat_minor": 0,
  "metadata": {
    "colab": {
      "provenance": [],
      "authorship_tag": "ABX9TyPEPu0ud0IzKpdSpKEs1/xz",
      "include_colab_link": true
    },
    "kernelspec": {
      "name": "python3",
      "display_name": "Python 3"
    },
    "language_info": {
      "name": "python"
    }
  },
  "cells": [
    {
      "cell_type": "markdown",
      "metadata": {
        "id": "view-in-github",
        "colab_type": "text"
      },
      "source": [
        "<a href=\"https://colab.research.google.com/github/NaYunJeong/K-Digital-Training-Class/blob/main/9.%20NLP/Aug06_3_Regex.ipynb\" target=\"_parent\"><img src=\"https://colab.research.google.com/assets/colab-badge.svg\" alt=\"Open In Colab\"/></a>"
      ]
    },
    {
      "cell_type": "code",
      "execution_count": null,
      "metadata": {
        "id": "IA4TB0pIa-Vl"
      },
      "outputs": [],
      "source": [
        "# 파이썬에서 정규 표현식을 사용할 때, 내장 모듈인 re를 사용\n",
        "import re"
      ]
    },
    {
      "cell_type": "markdown",
      "source": [
        "# 메타 문자로 표현해서 일대일매칭\n",
        "\n",
        "# 메타 문자 : 특수한 기능을 하는 문자\n",
        "- . : 한 개의 임의의 문자\n",
        "- ? : 앞의 문자가 존재할 수도 있고, 없을수도 있음 (문자가 0개 또는 1개)\n",
        "- ＊ : 앞의 문자가 무한개로 존재할 수도 있고, 없을수도 있음 (문자가 0개 이상)\n",
        "- ＋ : 앞의 문자가 최소 1개 이상 존재함\n",
        "- ^ : 뒤의 문자열로 문자열이 시작\n",
        "- $ : 앞의 문자열로 문자열이 끝\n",
        "- {숫자} : 숫자만큼 반복\n",
        "- [문자] : 대괄호 안의 문자들 중 한개의 문자와 매칭함\n",
        "- [^문자] : 해당 문자를 제외한 문자를 매칭함"
      ],
      "metadata": {
        "id": "IQ35PJ4ebbsy"
      }
    },
    {
      "cell_type": "code",
      "source": [
        "# re.match() 함수 : [문자열 처음]에 시작하는 패턴이 일치하는지 => 불일치시 None 반환\n",
        "# re.match(패턴, 문자열)\n",
        "print(re.match('a', 'a'))\n",
        "print(re.match('a', 'abc'))\n",
        "print(re.match('a', 'bca'))\n",
        "\n",
        "# 결과창의 span=(x, y) : matching되는 문자열의 위치를 반환, span(이상, 미만)"
      ],
      "metadata": {
        "colab": {
          "base_uri": "https://localhost:8080/"
        },
        "id": "M4ugBlg-baBC",
        "outputId": "adc7eb3a-2b98-4cf2-c3e2-6505f049845a"
      },
      "execution_count": null,
      "outputs": [
        {
          "output_type": "stream",
          "name": "stdout",
          "text": [
            "<re.Match object; span=(0, 1), match='a'>\n",
            "<re.Match object; span=(0, 1), match='a'>\n",
            "None\n"
          ]
        }
      ]
    },
    {
      "cell_type": "code",
      "source": [
        "# re.search() 함수 : 처음이 아니더라도 문자열 어딘가\n",
        "#                    패턴에 해당하는 문자가 있으면 그 위치를 반환\n",
        "print(re.search('a', 'a'))\n",
        "print(re.search('a', 'bbb'))\n",
        "print(re.search('a', 'bba'))\n",
        "print(re.search('a', 'bqwerbtase'))"
      ],
      "metadata": {
        "colab": {
          "base_uri": "https://localhost:8080/"
        },
        "id": "t1ohuZtsdU3D",
        "outputId": "58aac511-0901-4120-b186-fa605673de87"
      },
      "execution_count": null,
      "outputs": [
        {
          "output_type": "stream",
          "name": "stdout",
          "text": [
            "<re.Match object; span=(0, 1), match='a'>\n",
            "None\n",
            "<re.Match object; span=(2, 3), match='a'>\n",
            "<re.Match object; span=(7, 8), match='a'>\n"
          ]
        }
      ]
    },
    {
      "cell_type": "code",
      "source": [
        "# re.findall() 함수 : 문자열 중에서 패턴이랑 일치하는 모든 부분을 찾아줌\n",
        "print(re.findall('a', 'a'))\n",
        "print(re.findall('a', 'abca'))\n",
        "print(re.findall('a', 'aaaa'))\n",
        "print(re.findall('aaa', 'aaaa'))  # 한 번 반환된 리스트는 재사용되지 않는다"
      ],
      "metadata": {
        "colab": {
          "base_uri": "https://localhost:8080/"
        },
        "id": "ruZGOHchd8tK",
        "outputId": "6147742a-e3fa-44fa-85fb-cc78d66228a5"
      },
      "execution_count": null,
      "outputs": [
        {
          "output_type": "stream",
          "name": "stdout",
          "text": [
            "['a']\n",
            "['a', 'a']\n",
            "['a', 'a', 'a', 'a']\n",
            "['aaa']\n"
          ]
        }
      ]
    },
    {
      "cell_type": "code",
      "source": [
        "# re.finditer() 함수 : 패턴과 일치하는 모든 부분의 위치를 알 수 있음\n",
        "where = re.finditer('a', 'abca')\n",
        "print(where)\n",
        "\n",
        "for w in where:\n",
        "  print(w)"
      ],
      "metadata": {
        "colab": {
          "base_uri": "https://localhost:8080/"
        },
        "id": "CapVc0YceXXq",
        "outputId": "f216f699-d443-4d07-9326-f713a4d1831d"
      },
      "execution_count": null,
      "outputs": [
        {
          "output_type": "stream",
          "name": "stdout",
          "text": [
            "<callable_iterator object at 0x7cfd6db08520>\n",
            "<re.Match object; span=(0, 1), match='a'>\n",
            "<re.Match object; span=(3, 4), match='a'>\n"
          ]
        }
      ]
    },
    {
      "cell_type": "code",
      "source": [
        "# re.fullmatch() 함수 : 패턴과 문자열이 완벽하게 일치할 경우에 그 위치를 반환\n",
        "print(re.fullmatch('a', 'a'))\n",
        "print(re.fullmatch('a', 'aaa'))\n",
        "print(re.fullmatch('a', 'abcde'))"
      ],
      "metadata": {
        "colab": {
          "base_uri": "https://localhost:8080/"
        },
        "id": "mnOM30YEe-VE",
        "outputId": "29e3e267-2f84-42e8-86df-e77d448c2744"
      },
      "execution_count": null,
      "outputs": [
        {
          "output_type": "stream",
          "name": "stdout",
          "text": [
            "<re.Match object; span=(0, 1), match='a'>\n",
            "None\n",
            "None\n"
          ]
        }
      ]
    },
    {
      "cell_type": "code",
      "source": [
        "matching = re.search('happy', 'Do not worry, be happy.')\n",
        "print(matching)\n",
        "\n",
        "# match 관련 method\n",
        "print(matching.group()) # group() : 일치하는 문자열을 반환\n",
        "print(matching.start()) # start() : 일치하는 문자열의 시작 위치 반환\n",
        "print(matching.end())   # end() : 일치하는 문자열의 끝 위치 반환\n",
        "print(matching.span())  # span() : 일치하는 문자열의 위치를 튜플로 반환"
      ],
      "metadata": {
        "colab": {
          "base_uri": "https://localhost:8080/"
        },
        "id": "fyR3pEY7fVPi",
        "outputId": "84651644-84a7-498d-eff8-1ccced9314d5"
      },
      "execution_count": null,
      "outputs": [
        {
          "output_type": "stream",
          "name": "stdout",
          "text": [
            "<re.Match object; span=(17, 22), match='happy'>\n",
            "happy\n",
            "17\n",
            "22\n",
            "(17, 22)\n"
          ]
        }
      ]
    },
    {
      "cell_type": "markdown",
      "source": [
        "# 대괄호 [] : 여러가지 문자 중 하나랑 일치\n",
        "\n",
        "[] 대괄호 안에 원하는 문자를 여러개 넣고\n",
        "\n",
        "문자열에서 대괄호에 넣은 문자 패턴과 일치하는게 하나라도 있으면 매칭이 이루어짐\n",
        "\n",
        "or || 개념과 비슷함\n",
        "re.match(['a' or 'b' or 'c'], 'a') 의 느낌"
      ],
      "metadata": {
        "id": "b3nDJ_Qygbeb"
      }
    },
    {
      "cell_type": "code",
      "source": [
        "# [a-z] : 소문자 a부터 z까지 중에 하나이기만 하면 매칭 가능\n",
        "# [A-Z]\n",
        "# [0-9]\n",
        "# 한글은...? Hum...?\n",
        "# [가-힣] # 자음의 시작 ㄱ, 모음의 시작 ㅏ, 자음의 끝 ㅎ, 모음의 끝 ㅣ, 받침의 끝 ㅎ\n",
        "# 알파벳 대소문자 => [A-Za-z]"
      ],
      "metadata": {
        "id": "spKvfIt2fm_D"
      },
      "execution_count": null,
      "outputs": []
    },
    {
      "cell_type": "code",
      "source": [
        "matching = re.fullmatch(\"You['-:~/<>]re sleepy\", \"You're sleepy\")\n",
        "matching"
      ],
      "metadata": {
        "colab": {
          "base_uri": "https://localhost:8080/"
        },
        "id": "1he4ulPUhjSG",
        "outputId": "7945cfad-fd9c-4746-9ea1-cb8b2d40e848"
      },
      "execution_count": null,
      "outputs": [
        {
          "output_type": "execute_result",
          "data": {
            "text/plain": [
              "<re.Match object; span=(0, 13), match=\"You're sleepy\">"
            ]
          },
          "metadata": {},
          "execution_count": 17
        }
      ]
    },
    {
      "cell_type": "code",
      "source": [
        "matching2 = re.search('happy [a-z]uesday', 'happy tuesday')\n",
        "print(matching2)"
      ],
      "metadata": {
        "colab": {
          "base_uri": "https://localhost:8080/"
        },
        "id": "8Au8vdQUh-3z",
        "outputId": "50c19473-b141-4ce8-c1d6-de768766b209"
      },
      "execution_count": null,
      "outputs": [
        {
          "output_type": "stream",
          "name": "stdout",
          "text": [
            "<re.Match object; span=(0, 13), match='happy tuesday'>\n"
          ]
        }
      ]
    },
    {
      "cell_type": "code",
      "source": [
        "matching3 = re.search('happy [^0-9]uesday', 'happy tuesday')\n",
        "print(matching3)"
      ],
      "metadata": {
        "colab": {
          "base_uri": "https://localhost:8080/"
        },
        "id": "x4XbZDGxiGcD",
        "outputId": "efafdac5-77ff-49c6-f106-d8e38ca145ee"
      },
      "execution_count": null,
      "outputs": [
        {
          "output_type": "stream",
          "name": "stdout",
          "text": [
            "<re.Match object; span=(0, 13), match='happy tuesday'>\n"
          ]
        }
      ]
    },
    {
      "cell_type": "code",
      "source": [
        "# re.compile() 함수 : 사용하고자 하는 패턴이 자주 이용될 때 미리 컴파일 하는 용도\n",
        "# 마침표 . : 한 개의 임의의 문자\n",
        "m = re.compile('a.c') # a와 c사이에 어떠한 문자라도 1개 올 수 있다\n",
        "print(m.search('abc'))\n",
        "print(m.search('aaa'))\n",
        "\n",
        "m2 = re.compile('a..c')\n",
        "print(m2.search('abbc'))\n",
        "print(m2.search('awbckafldkjglajelgjmlfdjhdaglejf'))"
      ],
      "metadata": {
        "colab": {
          "base_uri": "https://localhost:8080/"
        },
        "id": "z4A5iOM0iYWT",
        "outputId": "fa8f29d4-58b6-420c-e982-f211a0883ba4"
      },
      "execution_count": null,
      "outputs": [
        {
          "output_type": "stream",
          "name": "stdout",
          "text": [
            "<re.Match object; span=(0, 3), match='abc'>\n",
            "None\n",
            "<re.Match object; span=(0, 4), match='abbc'>\n",
            "<re.Match object; span=(0, 4), match='awbc'>\n"
          ]
        }
      ]
    },
    {
      "cell_type": "code",
      "source": [
        "# 물음표 ? : 물음표 바로 앞에 있는 문자가 있을 수도, 없을수도 있다는 것을 의미\n",
        "q = re.compile('ab?c')\n",
        "print(q.search('abc'))\n",
        "print(q.search('ac'))\n",
        "print(q.search('adc'))\n",
        "print(q.search('abdc'))"
      ],
      "metadata": {
        "colab": {
          "base_uri": "https://localhost:8080/"
        },
        "id": "NdIuN2gZi7YD",
        "outputId": "80d88447-6880-4a52-d970-5ffaec485a40"
      },
      "execution_count": null,
      "outputs": [
        {
          "output_type": "stream",
          "name": "stdout",
          "text": [
            "<re.Match object; span=(0, 3), match='abc'>\n",
            "<re.Match object; span=(0, 2), match='ac'>\n",
            "None\n",
            "None\n"
          ]
        }
      ]
    },
    {
      "cell_type": "code",
      "source": [
        "# * : * 바로 앞에 있는 문자가 0개 이상일 때 (없어도 되고, 많아도 됨)\n",
        "s = re.compile('ab*c')\n",
        "print(s.search('abc'))\n",
        "print(s.search('ac'))\n",
        "print(s.search('abbbbbbbbbbbbbbbbbbbbbbbbbbbbbbbbbbbbbbbbbbbc'))"
      ],
      "metadata": {
        "colab": {
          "base_uri": "https://localhost:8080/"
        },
        "id": "6bycJDADpjUW",
        "outputId": "72c6f335-8005-4cf9-e3c8-b8d728dc6d95"
      },
      "execution_count": null,
      "outputs": [
        {
          "output_type": "stream",
          "name": "stdout",
          "text": [
            "<re.Match object; span=(0, 3), match='abc'>\n",
            "<re.Match object; span=(0, 2), match='ac'>\n",
            "<re.Match object; span=(0, 45), match='abbbbbbbbbbbbbbbbbbbbbbbbbbbbbbbbbbbbbbbbbbbc'>\n"
          ]
        }
      ]
    },
    {
      "cell_type": "code",
      "source": [
        "# + : *의 기능이랑 비슷하지만, + 앞에는 문자가 최소 한 개 이상\n",
        "p = re.compile('ab+c')\n",
        "print(p.search('abc'))\n",
        "print(p.search('abbbbbbbbbbbbbbbbbbbbbbbbbbbbbbbbbbbbbc'))\n",
        "print(p.search('ac'))"
      ],
      "metadata": {
        "colab": {
          "base_uri": "https://localhost:8080/"
        },
        "id": "Xok_13y7p5n1",
        "outputId": "dda8cd03-ad43-4433-fa13-a1e29644ba41"
      },
      "execution_count": null,
      "outputs": [
        {
          "output_type": "stream",
          "name": "stdout",
          "text": [
            "<re.Match object; span=(0, 3), match='abc'>\n",
            "<re.Match object; span=(0, 39), match='abbbbbbbbbbbbbbbbbbbbbbbbbbbbbbbbbbbbbc'>\n",
            "None\n"
          ]
        }
      ]
    },
    {
      "cell_type": "code",
      "source": [
        "# ^ : ^ 뒤에 나오는 문자열과 동일해야 함. 그 문자열로 시작하기만 하면 매칭이 가능\n",
        "c = re.compile('^ab')\n",
        "print(c.search('abc'))\n",
        "print(c.search('agab'))\n",
        "print(c.search('aqwert'))"
      ],
      "metadata": {
        "colab": {
          "base_uri": "https://localhost:8080/"
        },
        "id": "xbjXVptpqQSt",
        "outputId": "c279007a-4d78-442b-cf93-88456fa33613"
      },
      "execution_count": null,
      "outputs": [
        {
          "output_type": "stream",
          "name": "stdout",
          "text": [
            "<re.Match object; span=(0, 2), match='ab'>\n",
            "None\n",
            "None\n"
          ]
        }
      ]
    },
    {
      "cell_type": "code",
      "source": [
        "# {숫자} : {숫자} 바로 앞의 문자가 해당하는 숫자만큼 반복되어야 매칭이 가능\n",
        "n = re.compile('ab{3}c')\n",
        "print(n.search('abc'))\n",
        "print(n.search('abbc'))\n",
        "print(n.search('abbbc'))"
      ],
      "metadata": {
        "colab": {
          "base_uri": "https://localhost:8080/"
        },
        "id": "VH3g9mvDqeq8",
        "outputId": "2bc3fc33-53c2-40d5-cb39-04b4c00ed762"
      },
      "execution_count": null,
      "outputs": [
        {
          "output_type": "stream",
          "name": "stdout",
          "text": [
            "None\n",
            "None\n",
            "<re.Match object; span=(0, 5), match='abbbc'>\n"
          ]
        }
      ]
    },
    {
      "cell_type": "code",
      "source": [
        "# {숫자, 숫자} : {숫자, 숫자} 바로 앞의 문자가 해당하는 숫자만큼 반복되는데, 이상 ~ 이하\n",
        "nn = re.compile('ab{2,5}c')\n",
        "print(nn.search('abc'))\n",
        "print(nn.search('abbc'))\n",
        "print(nn.search('abbbbbc'))\n",
        "print(nn.search('abbbbbbbbbbbbbbbbbbbbc'))"
      ],
      "metadata": {
        "colab": {
          "base_uri": "https://localhost:8080/"
        },
        "id": "LtRs6qxHqzds",
        "outputId": "7a59a5d4-fefb-4dcc-c8bf-fb2b4507a1b5"
      },
      "execution_count": null,
      "outputs": [
        {
          "output_type": "stream",
          "name": "stdout",
          "text": [
            "None\n",
            "<re.Match object; span=(0, 4), match='abbc'>\n",
            "<re.Match object; span=(0, 7), match='abbbbbc'>\n",
            "None\n"
          ]
        }
      ]
    },
    {
      "cell_type": "code",
      "source": [
        "# {숫자, } : {숫자,} 바로 앞에 문자가 해당하는 숫자 이상이기만 하면 매칭이 가능\n",
        "nnn = re.compile('ab{2,}c')\n",
        "print(nnn.search('abc'))\n",
        "print(nnn.search('abbc'))\n",
        "print(nnn.search('abbbbbbbbbbbbbbbbbbbbbbbbbbbbbbbbbbbc'))"
      ],
      "metadata": {
        "colab": {
          "base_uri": "https://localhost:8080/"
        },
        "id": "Fm951bJJrLU1",
        "outputId": "5db3faf6-b966-449b-e0ec-05324362f70d"
      },
      "execution_count": null,
      "outputs": [
        {
          "output_type": "stream",
          "name": "stdout",
          "text": [
            "None\n",
            "<re.Match object; span=(0, 4), match='abbc'>\n",
            "<re.Match object; span=(0, 37), match='abbbbbbbbbbbbbbbbbbbbbbbbbbbbbbbbbbbc'>\n"
          ]
        }
      ]
    },
    {
      "cell_type": "markdown",
      "source": [
        "# re.split() 함수\n",
        "\n",
        "기본 : 공백 기준 분리\n",
        "- 띄어쓰기 기준으로 단어를 나눠서 리스트로 리턴"
      ],
      "metadata": {
        "id": "yJp_QVvMrqH3"
      }
    },
    {
      "cell_type": "code",
      "source": [
        "tt = \"\"\"모니터\n",
        "마우스\n",
        "키보드\n",
        "마이크\n",
        "카메라\n",
        "본체\"\"\"\n",
        "print(tt)\n",
        "re.split('\\n', tt)"
      ],
      "metadata": {
        "colab": {
          "base_uri": "https://localhost:8080/"
        },
        "id": "J664Hiitrdz1",
        "outputId": "2aa68608-c3ac-470f-a887-44f5d2439582"
      },
      "execution_count": null,
      "outputs": [
        {
          "output_type": "stream",
          "name": "stdout",
          "text": [
            "모니터\n",
            "마우스\n",
            "키보드\n",
            "마이크\n",
            "카메라\n",
            "본체\n"
          ]
        },
        {
          "output_type": "execute_result",
          "data": {
            "text/plain": [
              "['모니터', '마우스', '키보드', '마이크', '카메라', '본체']"
            ]
          },
          "metadata": {},
          "execution_count": 34
        }
      ]
    },
    {
      "cell_type": "code",
      "source": [],
      "metadata": {
        "id": "IJaXZ4Jyr8Ht"
      },
      "execution_count": null,
      "outputs": []
    }
  ]
}