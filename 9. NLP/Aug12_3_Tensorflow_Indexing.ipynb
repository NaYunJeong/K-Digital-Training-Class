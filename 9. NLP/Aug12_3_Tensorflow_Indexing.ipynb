{
  "nbformat": 4,
  "nbformat_minor": 0,
  "metadata": {
    "colab": {
      "provenance": [],
      "authorship_tag": "ABX9TyP9WgfUg13/yyahMu9AyXBq",
      "include_colab_link": true
    },
    "kernelspec": {
      "name": "python3",
      "display_name": "Python 3"
    },
    "language_info": {
      "name": "python"
    }
  },
  "cells": [
    {
      "cell_type": "markdown",
      "metadata": {
        "id": "view-in-github",
        "colab_type": "text"
      },
      "source": [
        "<a href=\"https://colab.research.google.com/github/NaYunJeong/K-Digital-Training-Class/blob/main/Aug12_3_Tensorflow_Indexing.ipynb\" target=\"_parent\"><img src=\"https://colab.research.google.com/assets/colab-badge.svg\" alt=\"Open In Colab\"/></a>"
      ]
    },
    {
      "cell_type": "markdown",
      "source": [
        "# 인덱싱 (Indexing)\n",
        "\n",
        "Python list / Numpy Array의 인덱싱 방법과 비슷\n",
        "\n",
        "0부터 시작, 마지막 인덱스 -1로\n",
        "\n",
        "인덱스에 해당하는 범위를 지정하여 여러개의 요소를 슬라이싱(Slicing) 추출도 가능 O"
      ],
      "metadata": {
        "id": "Sa3EAdYKZ5Df"
      }
    },
    {
      "cell_type": "code",
      "execution_count": 1,
      "metadata": {
        "id": "luwKSyYOZrHr"
      },
      "outputs": [],
      "source": [
        "import tensorflow as tf"
      ]
    },
    {
      "cell_type": "code",
      "source": [
        "vec = tf.constant([10, 20, 30, 40, 50])\n",
        "print(vec)\n",
        "\n",
        "# 0번째 요소의 스칼라값 출력\n",
        "print(vec[0])\n",
        "# 마지막 요소의 스칼라값 출력\n",
        "print(vec[-1])\n",
        "# 0 ~2번째까지의 해당하는 요소 값들을 모두 출력\n",
        "print(vec[:3])   # 처음부터 시작이라면 앞부분은 조건 없이 : 만 사용해도 가능 O"
      ],
      "metadata": {
        "colab": {
          "base_uri": "https://localhost:8080/"
        },
        "id": "KFi1QZ21aXbw",
        "outputId": "b751435a-624a-4678-f8b8-f0a153136881"
      },
      "execution_count": 5,
      "outputs": [
        {
          "output_type": "stream",
          "name": "stdout",
          "text": [
            "tf.Tensor([10 20 30 40 50], shape=(5,), dtype=int32)\n",
            "tf.Tensor(10, shape=(), dtype=int32)\n",
            "tf.Tensor(50, shape=(), dtype=int32)\n",
            "tf.Tensor([10 20 30], shape=(3,), dtype=int32)\n"
          ]
        }
      ]
    },
    {
      "cell_type": "code",
      "source": [
        "# 2차원 행렬(matrix) 텐서\n",
        "# 행방향 인덱스와 열방향 인덱스를 지정하는 방식\n",
        "\n",
        "matrix = tf.constant([[1, 2, 3, 4],\n",
        "                      [5, 6, 7, 8]])\n",
        "print(matrix)\n",
        "print(tf.rank(matrix))\n",
        "print('----------------')\n",
        "\n",
        "# [0행, 2열]\n",
        "print(matrix[0, 2])\n",
        "# [0행, 모든 열]\n",
        "print(matrix[0, :])\n",
        "# [모든 행, 1열]\n",
        "print(matrix[:, 1])\n",
        "# [모든 행, 모든 열]\n",
        "print(matrix[:, :])\n",
        "print(matrix)"
      ],
      "metadata": {
        "colab": {
          "base_uri": "https://localhost:8080/"
        },
        "id": "50ZRT42Yiavx",
        "outputId": "178f4cd2-3f9d-47a3-93d1-ba10e45ff616"
      },
      "execution_count": 14,
      "outputs": [
        {
          "output_type": "stream",
          "name": "stdout",
          "text": [
            "tf.Tensor(\n",
            "[[1 2 3 4]\n",
            " [5 6 7 8]], shape=(2, 4), dtype=int32)\n",
            "tf.Tensor(2, shape=(), dtype=int32)\n",
            "----------------\n",
            "tf.Tensor(3, shape=(), dtype=int32)\n",
            "tf.Tensor([1 2 3 4], shape=(4,), dtype=int32)\n",
            "tf.Tensor([2 6], shape=(2,), dtype=int32)\n",
            "tf.Tensor(\n",
            "[[1 2 3 4]\n",
            " [5 6 7 8]], shape=(2, 4), dtype=int32)\n"
          ]
        }
      ]
    },
    {
      "cell_type": "code",
      "source": [
        "# 랭크-3 텐서\n",
        "\n",
        "# 랭크-3 텐서 이상(고차원 텐서)의 인덱싱은\n",
        "# 2차원 행렬텐서(Matrix)의 개념을 확장한 느낌\n",
        "\n",
        "tensor = tf.constant([\n",
        "    [[1, 2, 3, 4],\n",
        "     [5, 6, 7, 8],\n",
        "     [9, 10, 11, 12]],\n",
        "\n",
        "    [[13, 14, 15, 16],\n",
        "     [17, 18, 19, 20],\n",
        "     [21, 22, 23, 24]],\n",
        "\n",
        "    [[25, 26, 27, 28],\n",
        "     [29, 30, 31, 32],\n",
        "     [33, 34, 35, 36]]\n",
        "])\n",
        "\n",
        "# 0번째의 모든 행, 모든 열\n",
        "print(tensor[0, :, :])\n",
        "\n",
        "# 1번째의 1번째 행까지, 2번째 열까지\n",
        "print(tensor[1, :2, :3])\n",
        "\n",
        "# 0~1번째의 2번째 행까지, 2~3번째 열까지\n",
        "print(tensor[:2, :3, 2:4])"
      ],
      "metadata": {
        "colab": {
          "base_uri": "https://localhost:8080/"
        },
        "id": "4OauY7_kivhB",
        "outputId": "15d362ec-cb21-440a-d036-818449fc8ac0"
      },
      "execution_count": 21,
      "outputs": [
        {
          "output_type": "stream",
          "name": "stdout",
          "text": [
            "tf.Tensor(\n",
            "[[ 1  2  3  4]\n",
            " [ 5  6  7  8]\n",
            " [ 9 10 11 12]], shape=(3, 4), dtype=int32)\n",
            "tf.Tensor(\n",
            "[[13 14 15]\n",
            " [17 18 19]], shape=(2, 3), dtype=int32)\n",
            "tf.Tensor(\n",
            "[[[ 3  4]\n",
            "  [ 7  8]\n",
            "  [11 12]]\n",
            "\n",
            " [[15 16]\n",
            "  [19 20]\n",
            "  [23 24]]], shape=(2, 3, 2), dtype=int32)\n"
          ]
        }
      ]
    },
    {
      "cell_type": "markdown",
      "source": [
        "# 형태 변환 (tf.reshape)\n",
        "\n",
        "Numpy의 reshape와 상당부분 유사함"
      ],
      "metadata": {
        "id": "NCDaowUwmKbB"
      }
    },
    {
      "cell_type": "code",
      "source": [
        "tensor = tf.constant(range(1, 25))\n",
        "print(tensor)"
      ],
      "metadata": {
        "colab": {
          "base_uri": "https://localhost:8080/"
        },
        "id": "nEWbEcwGkklv",
        "outputId": "873c126f-3417-421d-da69-d5e4155e836a"
      },
      "execution_count": 22,
      "outputs": [
        {
          "output_type": "stream",
          "name": "stdout",
          "text": [
            "tf.Tensor([ 1  2  3  4  5  6  7  8  9 10 11 12 13 14 15 16 17 18 19 20 21 22 23 24], shape=(24,), dtype=int32)\n"
          ]
        }
      ]
    },
    {
      "cell_type": "code",
      "source": [
        "# 벡터(Vector) : (24, ) 형태  => 요소가 24개 들어있는 1차원 벡터 형태\n",
        "# 행렬(Matrix) : (4, 6) 형태로 reshape\n",
        "\n",
        "tensor1 = tf.reshape(tensor, [4, 6])   # 변환 전과 후의 요소 갯수는 동일하게!\n",
        "print(tensor1)"
      ],
      "metadata": {
        "colab": {
          "base_uri": "https://localhost:8080/"
        },
        "id": "LImK2GQNmdUh",
        "outputId": "70d91a96-5048-440f-f13e-73c8549849ab"
      },
      "execution_count": 24,
      "outputs": [
        {
          "output_type": "stream",
          "name": "stdout",
          "text": [
            "tf.Tensor(\n",
            "[[ 1  2  3  4  5  6]\n",
            " [ 7  8  9 10 11 12]\n",
            " [13 14 15 16 17 18]\n",
            " [19 20 21 22 23 24]], shape=(4, 6), dtype=int32)\n"
          ]
        }
      ]
    },
    {
      "cell_type": "code",
      "source": [
        "# (4, 6) => (3, 8) 형태로 reshape\n",
        "# tensor2 = tf.reshape(tensor1, [3, 8])\n",
        "tensor2 = tf.reshape(tensor1, [-1, 8])\n",
        "\n",
        "print(tensor2)\n",
        "\n",
        "# 행 인덱스에 -1이 있는 경우 : 열을 기준으로 나누되, 행이 몇개가 되어도 상관없다는 의미\n",
        "#   대신, 열의 값은 지정이 되어있어야!!\n",
        "#   요소의 갯수와 배열의 형태에 따라서 행의 크기가 알아서 결정됨!"
      ],
      "metadata": {
        "colab": {
          "base_uri": "https://localhost:8080/"
        },
        "id": "b3HgMEr_m0CB",
        "outputId": "65f4a1da-772b-4751-9a07-45388b7b83ec"
      },
      "execution_count": 28,
      "outputs": [
        {
          "output_type": "stream",
          "name": "stdout",
          "text": [
            "tf.Tensor(\n",
            "[[ 1  2  3  4  5  6  7  8]\n",
            " [ 9 10 11 12 13 14 15 16]\n",
            " [17 18 19 20 21 22 23 24]], shape=(3, 8), dtype=int32)\n"
          ]
        }
      ]
    },
    {
      "cell_type": "code",
      "source": [
        "# (3, 8) => (24, ) 형태로 reshape\n",
        "tensor3 = tf.reshape(tensor2, [24])  # 요소의 갯수를 정확히 알고 있는 경우\n",
        "tensor3 = tf.reshape(tensor2, [-1])  # 배열에 요소가 너무 많거나,\n",
        "                                     # 배열을 구성하고 있는 구조가 너무 복잡한 경우\n",
        "print(tensor3)"
      ],
      "metadata": {
        "colab": {
          "base_uri": "https://localhost:8080/"
        },
        "id": "Ptoik9zqnAng",
        "outputId": "db49f281-c0f0-4830-94a6-37e352037764"
      },
      "execution_count": 32,
      "outputs": [
        {
          "output_type": "stream",
          "name": "stdout",
          "text": [
            "tf.Tensor([ 1  2  3  4  5  6  7  8  9 10 11 12 13 14 15 16 17 18 19 20 21 22 23 24], shape=(24,), dtype=int32)\n"
          ]
        }
      ]
    },
    {
      "cell_type": "markdown",
      "source": [
        "# 변수 (tf.Variable)\n",
        "\n",
        "Tensorflow : 계산처리[그래프]라는 객체를 구축 후, 그 그래프를 실행하는 것\n",
        "\n",
        "변수 : 텐서플로우를 활용해서 딥러닝 모델을 만들고, 학습을 시킬 때 정교한 연산을 제어하기 위해서 사용\n",
        "\n",
        "변수에 담긴 값이 변할 가능성이 있음 (바뀌어도 됨)\n",
        "\n",
        "변수는 변화하는 학습률 값을 저장하기 위한 그릇\n"
      ],
      "metadata": {
        "id": "-Ur5kqlbpEcS"
      }
    },
    {
      "cell_type": "code",
      "source": [
        "tensor = tf.constant([[10, 20, 30],\n",
        "                      [40, 50, 60]])\n",
        "tensor"
      ],
      "metadata": {
        "colab": {
          "base_uri": "https://localhost:8080/"
        },
        "id": "0VQE0mOwnbK5",
        "outputId": "920f50cd-fd3e-442c-d5ee-9d1371c3998e"
      },
      "execution_count": 33,
      "outputs": [
        {
          "output_type": "execute_result",
          "data": {
            "text/plain": [
              "<tf.Tensor: shape=(2, 3), dtype=int32, numpy=\n",
              "array([[10, 20, 30],\n",
              "       [40, 50, 60]], dtype=int32)>"
            ]
          },
          "metadata": {},
          "execution_count": 33
        }
      ]
    },
    {
      "cell_type": "code",
      "source": [
        "# tensor를 Variable 함수에 입력 => tensorflow의 변수가 생성\n",
        "\n",
        "var1 = tf.Variable(tensor)  # tensor : 변수 초기값\n",
        "\n",
        "print(var1)\n",
        "# 변수를 업데이트하면 초기값은 다른 값으로 변경될 수 있음\n",
        "\n",
        "# tf.constant() : 상수, 값을 한번 지정하면 변경할 수 없음\n",
        "# tf.Variable() : 변수, 텐서 구조에 저장되어 있는 값이 변경될 수 있음"
      ],
      "metadata": {
        "colab": {
          "base_uri": "https://localhost:8080/"
        },
        "id": "kuReZWYGpz-y",
        "outputId": "f84c6124-c96d-452e-9533-1ceaa88d45a3"
      },
      "execution_count": 34,
      "outputs": [
        {
          "output_type": "stream",
          "name": "stdout",
          "text": [
            "<tf.Variable 'Variable:0' shape=(2, 3) dtype=int32, numpy=\n",
            "array([[10, 20, 30],\n",
            "       [40, 50, 60]], dtype=int32)>\n"
          ]
        }
      ]
    },
    {
      "cell_type": "code",
      "source": [
        "# assign() 함수 : tensorflow변수에 새로운 데이터를 할당하는 함수\n",
        "var1.assign([[100, 200, 300],\n",
        "             [400, 500, 600]])\n",
        "print(var1)\n",
        "\n",
        "# ** 주의) 새로 입력하고자 하는 배열의 크기, 자료형이\n",
        "#          원래 변수에 지정되어있는 초기값의 배열의 크기, 자료형과 동일해야 함 !!!"
      ],
      "metadata": {
        "colab": {
          "base_uri": "https://localhost:8080/"
        },
        "id": "xsasHUAeqCaS",
        "outputId": "ba16efbf-fd5c-45ee-f140-12b3ee640946"
      },
      "execution_count": 35,
      "outputs": [
        {
          "output_type": "stream",
          "name": "stdout",
          "text": [
            "<tf.Variable 'Variable:0' shape=(2, 3) dtype=int32, numpy=\n",
            "array([[100, 200, 300],\n",
            "       [400, 500, 600]], dtype=int32)>\n"
          ]
        }
      ]
    },
    {
      "cell_type": "code",
      "source": [
        "# tf.convert_to_tensor() : tensorflow변수를 tensor로 변환\n",
        "# ** 텐서로 변경하고 나면 텐서의 크기, 저장하고 있는 값 변경이 불가능 => 상수화\n",
        "tensor1 = tf.convert_to_tensor(var1)\n",
        "print(tensor1)"
      ],
      "metadata": {
        "colab": {
          "base_uri": "https://localhost:8080/"
        },
        "id": "QxXxSp4UqzMy",
        "outputId": "baf30c14-2248-44e3-b01d-0a900bb31fdf"
      },
      "execution_count": 36,
      "outputs": [
        {
          "output_type": "stream",
          "name": "stdout",
          "text": [
            "tf.Tensor(\n",
            "[[100 200 300]\n",
            " [400 500 600]], shape=(2, 3), dtype=int32)\n"
          ]
        }
      ]
    },
    {
      "cell_type": "code",
      "source": [
        "# tensor와 마찬가지로 변수 역시 연산자 사용이 가능 O\n",
        "var1 + tensor1"
      ],
      "metadata": {
        "colab": {
          "base_uri": "https://localhost:8080/"
        },
        "id": "ew0J0dq6rfXq",
        "outputId": "fd88137e-fe4a-4cc0-8546-3205af4c2fa3"
      },
      "execution_count": 37,
      "outputs": [
        {
          "output_type": "execute_result",
          "data": {
            "text/plain": [
              "<tf.Tensor: shape=(2, 3), dtype=int32, numpy=\n",
              "array([[ 200,  400,  600],\n",
              "       [ 800, 1000, 1200]], dtype=int32)>"
            ]
          },
          "metadata": {},
          "execution_count": 37
        }
      ]
    },
    {
      "cell_type": "code",
      "source": [
        "tf.__version__  # tensorflow 버전 확인하기"
      ],
      "metadata": {
        "colab": {
          "base_uri": "https://localhost:8080/",
          "height": 35
        },
        "id": "kDzBUaP-rxES",
        "outputId": "bc297a2c-e0e2-4094-d2dd-82a97542ea88"
      },
      "execution_count": 38,
      "outputs": [
        {
          "output_type": "execute_result",
          "data": {
            "text/plain": [
              "'2.17.0'"
            ],
            "application/vnd.google.colaboratory.intrinsic+json": {
              "type": "string"
            }
          },
          "metadata": {},
          "execution_count": 38
        }
      ]
    },
    {
      "cell_type": "code",
      "source": [
        "import tensorflow.compat.v1 as tf   # tnesorflow 1버전 사용\n",
        "tf.compat.v1.disable_eager_execution()  # 에러 방지\n",
        "\n",
        "# 상수 정의하기\n",
        "a1 = tf.constant(10)\n",
        "b1 = tf.constant(20)\n",
        "c1 = tf.constant(30)\n",
        "\n",
        "# 변수 정의하기\n",
        "v = tf.Variable(0)\n",
        "\n",
        "# 데이터 플로우 그래프 정의하기 (데이터의 흐름을 연산하여 결과 값을 도출하는 모델)\n",
        "r = a1 + b1 + c1\n",
        "assign = tf.assign(v, r)\n",
        "\n",
        "# session 실행하기\n",
        "sess = tf.Session()\n",
        "sess.run(assign)\n",
        "\n",
        "# 결과 변수 내용을 출력\n",
        "print(sess.run(v))"
      ],
      "metadata": {
        "colab": {
          "base_uri": "https://localhost:8080/"
        },
        "id": "WrDanUzgr2vc",
        "outputId": "fea5ad1d-c295-4402-a76b-8181bb36c900"
      },
      "execution_count": 39,
      "outputs": [
        {
          "output_type": "stream",
          "name": "stdout",
          "text": [
            "60\n"
          ]
        }
      ]
    },
    {
      "cell_type": "markdown",
      "source": [
        "# 플레이스홀더 (placeholder)\n",
        "\n",
        "딥러닝을 할 때 데이터 학습이 이루어져야만 하는데\n",
        "\n",
        "이 학습을 진행할 때 학습할 데이터를 꼭! 입력을 해줘야 함\n",
        "\n",
        "데이터를 입력받기 위해서 필요한 비어있는 변수"
      ],
      "metadata": {
        "id": "2PD50G-0s9vT"
      }
    },
    {
      "cell_type": "code",
      "source": [
        "# placeholder의 파라미터\n",
        "# 실행은 하지 말기!\n",
        "placeholder(\n",
        "    dtype,          # dtype : data type, 반드시 적어야 함\n",
        "    shape=None,     # 입력 데이터의 형태 (상수값 or 배열 정보)\n",
        "                    # None으로 설정한 경우 어떠한 형태라도 들어갈 수 있음\n",
        "    name=None       # name... 굳이 안해도...\n",
        ")"
      ],
      "metadata": {
        "id": "eatgdKQQsoxK"
      },
      "execution_count": null,
      "outputs": []
    },
    {
      "cell_type": "code",
      "source": [
        "tf.disable_v2_behavior()   # v2 사용 안하겠음\n",
        "\n",
        "ph1 = tf.placeholder(dtype=tf.float32)\n",
        "ph2 = tf.placeholder(dtype=tf.float32)\n",
        "ph3 = tf.placeholder(dtype=tf.float32)\n",
        "\n",
        "rr = ph1 + ph2 + ph3\n",
        "\n",
        "sess = tf.Session()\n",
        "print(sess.run(rr, feed_dict={ph1 : 10, ph2 : 20, ph3 : 30}))\n",
        "sess.close()\n",
        "\n",
        "# placeholder는 다른 tensor를 할당하는 것 => tensor를 매핑한다\n",
        "# 할당을 위해서 사용하는 것 : feed_dict"
      ],
      "metadata": {
        "colab": {
          "base_uri": "https://localhost:8080/"
        },
        "id": "o2ip-mT7tn1L",
        "outputId": "b05d7334-7fda-4595-85cc-df00fda8de13"
      },
      "execution_count": 40,
      "outputs": [
        {
          "output_type": "stream",
          "name": "stderr",
          "text": [
            "WARNING:tensorflow:From /usr/local/lib/python3.10/dist-packages/tensorflow/python/compat/v2_compat.py:98: disable_resource_variables (from tensorflow.python.ops.resource_variables_toggle) is deprecated and will be removed in a future version.\n",
            "Instructions for updating:\n",
            "non-resource variables are not supported in the long term\n"
          ]
        },
        {
          "output_type": "stream",
          "name": "stdout",
          "text": [
            "60.0\n"
          ]
        }
      ]
    },
    {
      "cell_type": "markdown",
      "source": [
        "# tf.Variable vs tf.placeholder\n",
        "\n",
        "- tf.Variable : 데이터의 상태를 저장하기 위해 사용(그 결과에 대한 출력)\n",
        "\n",
        "- tf.placeholder : 데이터를 입력하기 위해 사용\n",
        "\n",
        "=> 데이터의 입력은 placeholder으로, 그 결과에 대한 출력은 Variable 을 사용"
      ],
      "metadata": {
        "id": "oD-lYymquKIV"
      }
    }
  ]
}
