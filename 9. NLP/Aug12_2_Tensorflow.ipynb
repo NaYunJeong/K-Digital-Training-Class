{
  "nbformat": 4,
  "nbformat_minor": 0,
  "metadata": {
    "colab": {
      "provenance": [],
      "authorship_tag": "ABX9TyOAxYqIxtRTydxAGxn1r4kn",
      "include_colab_link": true
    },
    "kernelspec": {
      "name": "python3",
      "display_name": "Python 3"
    },
    "language_info": {
      "name": "python"
    }
  },
  "cells": [
    {
      "cell_type": "markdown",
      "metadata": {
        "id": "view-in-github",
        "colab_type": "text"
      },
      "source": [
        "<a href=\"https://colab.research.google.com/github/NaYunJeong/K-Digital-Training-Class/blob/main/Aug12_2_Tensorflow.ipynb\" target=\"_parent\"><img src=\"https://colab.research.google.com/assets/colab-badge.svg\" alt=\"Open In Colab\"/></a>"
      ]
    },
    {
      "cell_type": "markdown",
      "source": [
        "# Tensorflow (텐서플로, 텐서플로우)\n",
        "\n",
        "대규모 숫자 계산을 할 수 있도록 해주는 라이브러리\n",
        "\n",
        "Tensor(텐서) : 다차원 행렬 (딥러닝에서 데이터를 표현하는 방식)\n",
        "\n",
        "Tensorflow는 계산식들을 미리 만들어 놓고, 데이터를 하나하나 넣어가면서 실행을 하는 구조\n",
        "\n",
        "대부분의 편한 기능들이 파이썬 라이브러리에 구현이 되어있어서, Tensorflow도 역시 파이썬을 최우선으로 지원함\n",
        "  => (Java, JavaScript에서도 사용 가능함)"
      ],
      "metadata": {
        "id": "f6Oku7TvBJaB"
      }
    },
    {
      "cell_type": "markdown",
      "source": [
        "# 텐서의 종류\n",
        "\n",
        "- 0차원 텐서 : 스칼라 (Scalar)\n",
        "- 1차원 텐서 : 벡터 (Vector)\n",
        "- 2차원 텐서 : 행렬 (Matrix)\n",
        "- 3차원 텐서 (Tensor)\n",
        "- 4차원 텐서 (Tensor)\n",
        "\n",
        "차수(Rank)가 1씩 증가하면서 데이터의 구조가 확장\n",
        "\n",
        "차수(랭크의 수) : 텐서를 구성하는 벡터의 갯수\n",
        "\n",
        "점 => 선 => 면 => 입체로 가는 느낌"
      ],
      "metadata": {
        "id": "VcdjXGIrGny7"
      }
    },
    {
      "cell_type": "markdown",
      "source": [
        "# 스칼라 (Scalar)\n",
        "\n",
        "정수 및 실수와 같은 상수 (Constant Number)\n",
        "\n",
        "양을 나타내기는 하지만, 방향성을 갖지는 않음\n",
        "\n",
        "벡터가 존재하지 않으므로 차수가 0\n",
        "\n",
        "'랭크(rank)-0 텐서' 라고 부름"
      ],
      "metadata": {
        "id": "0LQYY0YmHfxD"
      }
    },
    {
      "cell_type": "code",
      "execution_count": 1,
      "metadata": {
        "colab": {
          "base_uri": "https://localhost:8080/"
        },
        "id": "vXwQ_5uqA_r4",
        "outputId": "c81f6544-56fe-457d-8876-f81b402d941b"
      },
      "outputs": [
        {
          "output_type": "stream",
          "name": "stdout",
          "text": [
            "tf.Tensor(10, shape=(), dtype=int32)\n",
            "tf.Tensor(20, shape=(), dtype=int32)\n"
          ]
        }
      ],
      "source": [
        "import tensorflow as tf\n",
        "\n",
        "# scalar 정의\n",
        "#   scalar tensor는 constant() 함수에 상수값을 입력해서 만들기\n",
        "a = tf.constant(10)\n",
        "b = tf.constant(20)\n",
        "\n",
        "print(a)\n",
        "print(b)\n",
        "\n",
        "# tf.Tensor(10, shape=(), dtype=int32)\n",
        "# tf.Tensor(20, shape=(), dtype=int32)\n",
        "#     정수 10, 20은 텐서(tf.Tensor)로 변환\n",
        "#     배열을 의미하는 shape=()에 나타내는 값이 없음 => 0차원"
      ]
    },
    {
      "cell_type": "code",
      "source": [
        "# 랭크 확인\n",
        "print(tf.rank(a))   # rank가 0인 스칼라 텐서"
      ],
      "metadata": {
        "colab": {
          "base_uri": "https://localhost:8080/"
        },
        "id": "wD8cXWi3ILld",
        "outputId": "efbd2c94-062f-4252-dccc-6ca386b013ca"
      },
      "execution_count": 2,
      "outputs": [
        {
          "output_type": "stream",
          "name": "stdout",
          "text": [
            "tf.Tensor(0, shape=(), dtype=int32)\n"
          ]
        }
      ]
    },
    {
      "cell_type": "code",
      "source": [
        "# tensor 자료형 변환 : tf.cast(바꿀 변수명, 바꿀 자료형)\n",
        "\n",
        "a = tf.cast(a, tf.float32)\n",
        "b = tf.cast(b, tf.float32)\n",
        "print(a.dtype)\n",
        "print(b.dtype)\n",
        "# tensorflow 딥러닝 연산에서는 float32가 숫자형데이터의 기본 자료형"
      ],
      "metadata": {
        "colab": {
          "base_uri": "https://localhost:8080/"
        },
        "id": "z4xKSxu1IrST",
        "outputId": "a5a50b12-29c2-4ba9-a74f-fd9649f09b7e"
      },
      "execution_count": 3,
      "outputs": [
        {
          "output_type": "stream",
          "name": "stdout",
          "text": [
            "<dtype: 'float32'>\n",
            "<dtype: 'float32'>\n"
          ]
        }
      ]
    },
    {
      "cell_type": "code",
      "source": [
        "# math모듈 : 다양한 수학적인 함수가 정의되어 있음\n",
        "\n",
        "# 덧셈\n",
        "print(tf.math.add(a, b))\n",
        "\n",
        "# 뺄셈\n",
        "print(tf.math.subtract(a, b))\n",
        "\n",
        "# 곱셈\n",
        "print(tf.math.multiply(a, b))\n",
        "\n",
        "# 나눗셈\n",
        "print(tf.math.divide(a, b))\n",
        "\n",
        "# 나머지\n",
        "print(tf.math.mod(a, b))"
      ],
      "metadata": {
        "colab": {
          "base_uri": "https://localhost:8080/"
        },
        "id": "uuvd0S9vJG3L",
        "outputId": "b516acfc-289f-4fe5-fee1-9a1b5e7714e8"
      },
      "execution_count": 5,
      "outputs": [
        {
          "output_type": "stream",
          "name": "stdout",
          "text": [
            "tf.Tensor(30.0, shape=(), dtype=float32)\n",
            "tf.Tensor(-10.0, shape=(), dtype=float32)\n",
            "tf.Tensor(200.0, shape=(), dtype=float32)\n",
            "tf.Tensor(0.5, shape=(), dtype=float32)\n",
            "tf.Tensor(10.0, shape=(), dtype=float32)\n"
          ]
        }
      ]
    },
    {
      "cell_type": "markdown",
      "source": [
        "# 벡터 (Vector)\n",
        "\n",
        "스칼라 값 여러개를 요소로 갖는 1차원 배열\n",
        "\n",
        "스칼라 여러개가 동일한 축 방향으로 나열됨\n",
        "\n",
        "요소로 구성되는 다양한 값들이 모여 하나의 대표성을 갖는 값\n",
        "\n",
        "각 요소값들의 크기, 요소들이 나열되는 순서 두 가지 모두 의미가 있음\n",
        "\n",
        "벡터는 방향성(하나의 축)을 가지고 있기 때문에\n",
        "\n",
        "'Rank 1, 랭크-1 텐서' 라고도 부름"
      ],
      "metadata": {
        "id": "d9MbX33XJ6xD"
      }
    },
    {
      "cell_type": "code",
      "source": [
        "import numpy as np\n",
        "import tensorflow as tf\n",
        "\n",
        "# 1차원 배열 정의하기\n",
        "#   constant() 함수로 1차원 배열을 정의하면, 1차원 텐서인 벡터로 변환\n",
        "#   python의 list와 numpy array 둘 다 사용 가능\n",
        "#   vector의 shape=(요소갯수, ) 형태로 표시됨\n",
        "\n",
        "l = [10, 20, 30]  # python의 list\n",
        "a = np.array([100., 200., 300.])  # numpy array\n",
        "\n",
        "# 텐서 변환\n",
        "v1 = tf.constant(l, dtype=tf.float32)\n",
        "v2 = tf.constant(a, dtype=tf.float32)\n",
        "\n",
        "print(v1)\n",
        "print(v2)\n",
        "\n",
        "# shape=(3,) : 1개의 축에 3개의 요소가 있다는 뜻"
      ],
      "metadata": {
        "colab": {
          "base_uri": "https://localhost:8080/"
        },
        "id": "FBycP3xqJz_s",
        "outputId": "7dffb72b-ea05-4969-859b-60217757ba35"
      },
      "execution_count": 6,
      "outputs": [
        {
          "output_type": "stream",
          "name": "stdout",
          "text": [
            "tf.Tensor([10. 20. 30.], shape=(3,), dtype=float32)\n",
            "tf.Tensor([100. 200. 300.], shape=(3,), dtype=float32)\n"
          ]
        }
      ]
    },
    {
      "cell_type": "code",
      "source": [
        "# rank 확인\n",
        "print(tf.rank(v1))\n",
        "print(tf.rank(v2))\n",
        "\n",
        "# v1, v2 벡터 모두 랭크가 1인 랭크-1 텐서"
      ],
      "metadata": {
        "colab": {
          "base_uri": "https://localhost:8080/"
        },
        "id": "Ph8RI3PjLept",
        "outputId": "37da96e2-a7e9-4f98-c1b2-34e5672849fc"
      },
      "execution_count": 7,
      "outputs": [
        {
          "output_type": "stream",
          "name": "stdout",
          "text": [
            "tf.Tensor(1, shape=(), dtype=int32)\n",
            "tf.Tensor(1, shape=(), dtype=int32)\n"
          ]
        }
      ]
    },
    {
      "cell_type": "code",
      "source": [
        "# 연산\n",
        "add = tf.math.add(v1, v2)\n",
        "print(add)\n",
        "print(tf.rank(add))\n",
        "\n",
        "# element-by-element 벡터연산\n",
        "# 벡터연산 : 같은 위치에 있는 요소들끼리 짝을 이루어서 연산\n",
        "# 결과물 : 요소를 3개를 갖는 벡터(랭크-1텐서)(1차원) 형태가 그대로 유지"
      ],
      "metadata": {
        "colab": {
          "base_uri": "https://localhost:8080/"
        },
        "id": "kbd0bfGhL3_D",
        "outputId": "682e4fc1-4bef-4625-d191-f71d378d94a3"
      },
      "execution_count": 8,
      "outputs": [
        {
          "output_type": "stream",
          "name": "stdout",
          "text": [
            "tf.Tensor([110. 220. 330.], shape=(3,), dtype=float32)\n",
            "tf.Tensor(1, shape=(), dtype=int32)\n"
          ]
        }
      ]
    },
    {
      "cell_type": "code",
      "source": [
        "# 파이썬 내장 연산자 사용 가능\n",
        "print(v1 + v2)\n",
        "print(v1 - v2)\n",
        "print(v1 * v2)\n",
        "print(v1 / v2)\n",
        "print(v1 // v2)\n",
        "print(v1 % v2)"
      ],
      "metadata": {
        "colab": {
          "base_uri": "https://localhost:8080/"
        },
        "id": "Q_RM2X66MzsG",
        "outputId": "d869bc79-02ea-4176-f5a0-88c84b72229c"
      },
      "execution_count": 11,
      "outputs": [
        {
          "output_type": "stream",
          "name": "stdout",
          "text": [
            "tf.Tensor([110. 220. 330.], shape=(3,), dtype=float32)\n",
            "tf.Tensor([ -90. -180. -270.], shape=(3,), dtype=float32)\n",
            "tf.Tensor([1000. 4000. 9000.], shape=(3,), dtype=float32)\n",
            "tf.Tensor([0.1 0.1 0.1], shape=(3,), dtype=float32)\n",
            "tf.Tensor([0. 0. 0.], shape=(3,), dtype=float32)\n",
            "tf.Tensor([10. 20. 30.], shape=(3,), dtype=float32)\n"
          ]
        }
      ]
    },
    {
      "cell_type": "code",
      "source": [
        "# reduce_sum() : vector를 구성하는 요소들의 합계\n",
        "#   그 합계는 Scalar로 표현\n",
        "print(tf.reduce_sum(v1))\n",
        "print(tf.reduce_sum(v2))"
      ],
      "metadata": {
        "colab": {
          "base_uri": "https://localhost:8080/"
        },
        "id": "GEQd8btMNACz",
        "outputId": "14c5ba9a-5f60-498d-b994-0bc3167c6cb5"
      },
      "execution_count": 12,
      "outputs": [
        {
          "output_type": "stream",
          "name": "stdout",
          "text": [
            "tf.Tensor(60.0, shape=(), dtype=float32)\n",
            "tf.Tensor(600.0, shape=(), dtype=float32)\n"
          ]
        }
      ]
    },
    {
      "cell_type": "code",
      "source": [
        "# square 함수 : 거듭제곱 연산처리\n",
        "#   각 요소들을 거듭제곱 한 값을 반환\n",
        "print(tf.math.square(v1))\n",
        "\n",
        "# 내장 연산자로 거듭제곱\n",
        "print(v1 ** 2)"
      ],
      "metadata": {
        "colab": {
          "base_uri": "https://localhost:8080/"
        },
        "id": "XB9kS4fZOMP8",
        "outputId": "1db96b03-d60f-4385-c875-3657f264de2e"
      },
      "execution_count": 14,
      "outputs": [
        {
          "output_type": "stream",
          "name": "stdout",
          "text": [
            "tf.Tensor([100. 400. 900.], shape=(3,), dtype=float32)\n",
            "tf.Tensor([100. 400. 900.], shape=(3,), dtype=float32)\n"
          ]
        }
      ]
    },
    {
      "cell_type": "code",
      "source": [
        "# sqrt 함수 : 제곱근 구하기\n",
        "#    각 요소들을 제곱근 한 값을 반환\n",
        "print(tf.math.sqrt(v2))\n",
        "\n",
        "# 내장 연산자로 제곱근 구하기\n",
        "print(v1 ** 0.5)"
      ],
      "metadata": {
        "colab": {
          "base_uri": "https://localhost:8080/"
        },
        "id": "rIc9OmhcOaoj",
        "outputId": "0d09971d-5d63-4551-81f9-8a94983b28c3"
      },
      "execution_count": 17,
      "outputs": [
        {
          "output_type": "stream",
          "name": "stdout",
          "text": [
            "tf.Tensor([10.       14.142136 17.320509], shape=(3,), dtype=float32)\n",
            "tf.Tensor([3.1622777 4.472136  5.477226 ], shape=(3,), dtype=float32)\n"
          ]
        }
      ]
    },
    {
      "cell_type": "code",
      "source": [
        "# tensor는 numpy 배열의 브로드 캐스팅 연산 지원\n",
        "\n",
        "# 브로드캐스팅 연산 : 일정 조건을 부합하는 다른 형태의 배열끼리 연산을 수행하는 것\n",
        "print(v1 + 10)\n",
        "\n",
        "# vector에 숫자 10을 더하면, 형태는 그대로 유지된 상태에서\n",
        "# 각각의 요소에 10씩 더한 값을 반환"
      ],
      "metadata": {
        "id": "R_e46q_FO3mV"
      },
      "execution_count": null,
      "outputs": []
    },
    {
      "cell_type": "markdown",
      "source": [
        "# 행렬 (Matrix)\n",
        "\n",
        "차수(Rank)가 1인 Vector를 같은 축 방향으로 나열하는 개념\n",
        "\n",
        "여러개의 1차원 Vector를 요소로 갖는 2차원 배열\n",
        "\n",
        "랭크-2 텐서 라고도 부름"
      ],
      "metadata": {
        "id": "CFhhywvsUbZm"
      }
    },
    {
      "cell_type": "code",
      "source": [
        "import tensorflow as tf\n",
        "\n",
        "# 2차원 배열 정의 (list)\n",
        "li_in_li = [[1, 2], [3, 4]] # (2, 2)\n",
        "\n",
        "# tensor 변환\n",
        "\n",
        "matrix1 = tf.constant(li_in_li)   # constant 함수에 2차원 배열 입력\n",
        "\n",
        "print(matrix1)\n",
        "# # rank 확인\n",
        "\n",
        "print(tf.rank(matrix1))\n",
        "\n",
        "# [[1, 2], [3, 4]] : 2개의 list를 요소로 갖는 list\n",
        "# [[1 2],\n",
        "#   [3 4]] : (2행, 2열) 구조의 2차원 tensor"
      ],
      "metadata": {
        "colab": {
          "base_uri": "https://localhost:8080/"
        },
        "id": "JytUFgrCUph1",
        "outputId": "e6a10d8a-1254-4978-b1c8-d3f4c1caff5f"
      },
      "execution_count": 19,
      "outputs": [
        {
          "output_type": "stream",
          "name": "stdout",
          "text": [
            "tf.Tensor(\n",
            "[[1 2]\n",
            " [3 4]], shape=(2, 2), dtype=int32)\n",
            "tf.Tensor(2, shape=(), dtype=int32)\n"
          ]
        }
      ]
    },
    {
      "cell_type": "code",
      "source": [
        "# stack() : 행렬 만들기\n",
        "# 1차원 vector를 2개 만들어서 stack()를 이용해서 결합하는 방식\n",
        "\n",
        "# 1차원 vector 2개 정의\n",
        "v1 = tf.constant([10, 20])\n",
        "v2 = tf.constant([-10, 30])\n",
        "\n",
        "# tensor 변환\n",
        "matrix2 = tf.stack([v1, v2])\n",
        "\n",
        "print(matrix2)\n",
        "print(tf.rank(matrix2))"
      ],
      "metadata": {
        "colab": {
          "base_uri": "https://localhost:8080/"
        },
        "id": "L3YSFcwBVHrO",
        "outputId": "e0b2322f-ee2e-4197-e233-8c433722af45"
      },
      "execution_count": 21,
      "outputs": [
        {
          "output_type": "stream",
          "name": "stdout",
          "text": [
            "tf.Tensor(\n",
            "[[ 10  20]\n",
            " [-10  30]], shape=(2, 2), dtype=int32)\n",
            "tf.Tensor(2, shape=(), dtype=int32)\n"
          ]
        }
      ]
    },
    {
      "cell_type": "code",
      "source": [
        "# element-by-element 벡터 연산\n",
        "calc = tf.math.multiply(matrix1, matrix2)\n",
        "print(calc)"
      ],
      "metadata": {
        "colab": {
          "base_uri": "https://localhost:8080/"
        },
        "id": "hHofew_cV0mV",
        "outputId": "7255b701-bae4-4cad-a610-ecdcf392246b"
      },
      "execution_count": 22,
      "outputs": [
        {
          "output_type": "stream",
          "name": "stdout",
          "text": [
            "tf.Tensor(\n",
            "[[ 10  40]\n",
            " [-30 120]], shape=(2, 2), dtype=int32)\n"
          ]
        }
      ]
    },
    {
      "cell_type": "code",
      "source": [
        "# 브로드캐스팅 연산\n",
        "calc2 = tf.math.multiply(matrix1, 10)\n",
        "print(calc2)\n",
        "\n",
        "# 2차원 행렬에 10을 곱하면, 행렬에 있는 모든 요소 * 10\n",
        "#   => 행렬의 요소가 모두 10으로 구성되어있는 2차원 행렬 모양으로 확장 후 연산 진행"
      ],
      "metadata": {
        "colab": {
          "base_uri": "https://localhost:8080/"
        },
        "id": "LlsHLccEWkrW",
        "outputId": "ff82bd44-22f8-4823-c6c4-96b8b35e2d80"
      },
      "execution_count": 23,
      "outputs": [
        {
          "output_type": "stream",
          "name": "stdout",
          "text": [
            "tf.Tensor(\n",
            "[[10 20]\n",
            " [30 40]], shape=(2, 2), dtype=int32)\n"
          ]
        }
      ]
    },
    {
      "cell_type": "code",
      "source": [
        "# matmul() : 선형대수에 다루는 행렬 곱 연산\n",
        "# 행렬곱 : 두 행렬에서 좌를 행렬의 행(row)에 우측 행렬의 열(column)을 곱하는 것\n",
        "mat_mul = tf.matmul(matrix1, matrix2)\n",
        "print(mat_mul)"
      ],
      "metadata": {
        "colab": {
          "base_uri": "https://localhost:8080/"
        },
        "id": "ss2VT0S2WrlN",
        "outputId": "1cba7b5e-19a9-4cc0-ec24-21df994a97c7"
      },
      "execution_count": 24,
      "outputs": [
        {
          "output_type": "stream",
          "name": "stdout",
          "text": [
            "tf.Tensor(\n",
            "[[-10  80]\n",
            " [-10 180]], shape=(2, 2), dtype=int32)\n"
          ]
        }
      ]
    },
    {
      "cell_type": "markdown",
      "source": [
        "# 고차원 텐서 (Tensor)\n",
        "\n",
        "고차원 텐서 : 축이 3개 이상\n",
        "\n",
        "3차원 구조를 가지는 랭크-3텐서\n",
        "\n",
        "랭크-1 텐서를 같은 축 방향으로 결합시키면 : 랭크-2 텐서\n",
        "\n",
        "랭크-2 텐서를 같은 축 방향으로 결합시키면 : 랭크-3 텐서\n",
        "\n",
        "=> 1차원 벡터를 나열하면 2차원 행렬이 되고, 2차원 행렬을 나열하면 3차원 텐서가 됨"
      ],
      "metadata": {
        "id": "i7SO266bXqyA"
      }
    },
    {
      "cell_type": "code",
      "source": [
        "# 2차원 행렬 (2행, 4열)을 3개 생성\n",
        "matrix3 = [[10, 20, 30, 40],\n",
        "           [50, 60, 70, 80]]\n",
        "\n",
        "matrix4 = [[11, 22, 33, 44],\n",
        "           [55, 66, 77, 88]]\n",
        "\n",
        "matrix5 = [[100, 200, 300, 400],\n",
        "           [500, 600, 700, 800]]\n",
        "\n",
        "# tensor 변환 - constant()\n",
        "t = tf.constant([matrix3, matrix4, matrix5])\n",
        "\n",
        "print(t)\n",
        "\n",
        "print(tf.rank(t))\n",
        "# 2차원 행렬을 요소로 갖는 1차원 벡터를 만들어서\n",
        "#   랭크-3 텐서(2, 4)크기의 행렬이 3개 결합되었음"
      ],
      "metadata": {
        "colab": {
          "base_uri": "https://localhost:8080/"
        },
        "id": "sPshCu-UXj-m",
        "outputId": "b327413c-8ce5-4537-d3d9-1f9f899ee0f4"
      },
      "execution_count": 25,
      "outputs": [
        {
          "output_type": "stream",
          "name": "stdout",
          "text": [
            "tf.Tensor(\n",
            "[[[ 10  20  30  40]\n",
            "  [ 50  60  70  80]]\n",
            "\n",
            " [[ 11  22  33  44]\n",
            "  [ 55  66  77  88]]\n",
            "\n",
            " [[100 200 300 400]\n",
            "  [500 600 700 800]]], shape=(3, 2, 4), dtype=int32)\n",
            "tf.Tensor(3, shape=(), dtype=int32)\n"
          ]
        }
      ]
    },
    {
      "cell_type": "code",
      "source": [
        "# stack() 함수로 만들기 - 2차원 배열을 차곡차곡 쌓기\n",
        "\n",
        "t2 = tf.stack([matrix3, matrix4, matrix5])\n",
        "\n",
        "print(t2)\n",
        "\n",
        "print(tf.rank(t2))"
      ],
      "metadata": {
        "colab": {
          "base_uri": "https://localhost:8080/"
        },
        "id": "34CsoESDY4s_",
        "outputId": "640fb631-3734-4dc4-bd98-53944fd3db57"
      },
      "execution_count": 26,
      "outputs": [
        {
          "output_type": "stream",
          "name": "stdout",
          "text": [
            "tf.Tensor(\n",
            "[[[ 10  20  30  40]\n",
            "  [ 50  60  70  80]]\n",
            "\n",
            " [[ 11  22  33  44]\n",
            "  [ 55  66  77  88]]\n",
            "\n",
            " [[100 200 300 400]\n",
            "  [500 600 700 800]]], shape=(3, 2, 4), dtype=int32)\n",
            "tf.Tensor(3, shape=(), dtype=int32)\n"
          ]
        }
      ]
    },
    {
      "cell_type": "code",
      "source": [],
      "metadata": {
        "id": "gMXwEuZUZe8J"
      },
      "execution_count": null,
      "outputs": []
    }
  ]
}
