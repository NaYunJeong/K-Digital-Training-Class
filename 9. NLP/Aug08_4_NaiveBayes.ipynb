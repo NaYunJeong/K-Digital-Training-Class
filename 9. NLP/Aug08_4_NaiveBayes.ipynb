{
  "nbformat": 4,
  "nbformat_minor": 0,
  "metadata": {
    "colab": {
      "provenance": [],
      "authorship_tag": "ABX9TyOuQUx2i8v/xWwG0/ceWz7T",
      "include_colab_link": true
    },
    "kernelspec": {
      "name": "python3",
      "display_name": "Python 3"
    },
    "language_info": {
      "name": "python"
    }
  },
  "cells": [
    {
      "cell_type": "markdown",
      "metadata": {
        "id": "view-in-github",
        "colab_type": "text"
      },
      "source": [
        "<a href=\"https://colab.research.google.com/github/NaYunJeong/K-Digital-Training-Class/blob/main/Aug08_4_NaiveBayes.ipynb\" target=\"_parent\"><img src=\"https://colab.research.google.com/assets/colab-badge.svg\" alt=\"Open In Colab\"/></a>"
      ]
    },
    {
      "cell_type": "markdown",
      "source": [
        "# 나이브베이즈 분류 (Naive Bayes Classification)\n",
        "\n",
        "지도학습 중 분류 기법의 하나\n",
        "\n",
        "대표적으로 사용되는 곳 : 스팸메일 구분하는 필터, 텍스트 분류, 추천 시스템, 감정 분석, ...\n",
        "\n",
        "머신러닝 - 지도학습 :\n",
        "\n",
        "Feature, Label 파악이 중요\n",
        "\n",
        "Label : 우리가 원하는 분류\n",
        "  ex) 치마, 반바지, 긴바지, 모자\n",
        "\n",
        "Feature : 디자인, 모양, 색, 질감, 원단, ..."
      ],
      "metadata": {
        "id": "D_jHo7E3Zr5d"
      }
    },
    {
      "cell_type": "code",
      "execution_count": 1,
      "metadata": {
        "id": "5S6hzCKuZda6"
      },
      "outputs": [],
      "source": [
        "# 날씨에 따라서 긴바지를 입을지 반바지를 입을지\n",
        "\n",
        "# 'sunny', 'overcast', 'snow'\n",
        "weather = ['sunny', 'sunny', 'overcast', 'snow', 'overcast', 'snow', 'snow',\n",
        "           'sunny', 'overcast', 'overcast', 'snow', 'sunny', 'snow', 'sunny']\n",
        "\n",
        "# 'mild', 'cool', 'cold'\n",
        "temp = ['mild', 'cool', 'cold', 'cold', 'cold', 'cool', 'mild',\n",
        "        'mild', 'cool', 'cold', 'cool', 'mild', 'mild', 'cool']\n",
        "\n",
        "# 긴바지 : long, 반바지 : short\n",
        "pants = ['short', 'short', 'long', 'long', 'long', 'short', 'long',\n",
        "         'short', 'short', 'long', 'short', 'long', 'long', 'short']"
      ]
    },
    {
      "cell_type": "markdown",
      "source": [
        "컴퓨터가 이해하는 것 : 0, 1\n",
        "\n",
        "어휘추출(Feature Encoding) - String을 int로"
      ],
      "metadata": {
        "id": "1KxA5EeQb9Z1"
      }
    },
    {
      "cell_type": "code",
      "source": [
        "from sklearn import preprocessing\n",
        "\n",
        "# LabelEncoder() : 문자를 0부터 시작하는 정수형 숫자로 바꿔주는 기능\n",
        "le = preprocessing.LabelEncoder()\n",
        "\n",
        "# fit_transform() : train dataset에서만 사용\n",
        "#   fit : 평균, 표준편차를 계산\n",
        "#   transform : 정규화작업\n",
        "\n",
        "weather_encoder = le.fit_transform(weather)\n",
        "print(weather_encoder)\n",
        "# 'sunny' : 2 / 'overcast' : 0 / 'snow' : 1"
      ],
      "metadata": {
        "colab": {
          "base_uri": "https://localhost:8080/"
        },
        "id": "r6KFnqF_bw0_",
        "outputId": "f495b809-d7b9-4eda-bcaf-2f5fca05afcf"
      },
      "execution_count": 2,
      "outputs": [
        {
          "output_type": "stream",
          "name": "stdout",
          "text": [
            "[2 2 0 1 0 1 1 2 0 0 1 2 1 2]\n"
          ]
        }
      ]
    },
    {
      "cell_type": "code",
      "source": [
        "temp_encoder = le.fit_transform(temp)\n",
        "print(temp_encoder)\n",
        "# 'mild' : 2 / 'cool' : 1 / 'cold' : 0"
      ],
      "metadata": {
        "colab": {
          "base_uri": "https://localhost:8080/"
        },
        "id": "l1lQt6NRc_o1",
        "outputId": "14ff41ad-e2ae-4add-9fec-908372a5b8b8"
      },
      "execution_count": 4,
      "outputs": [
        {
          "output_type": "stream",
          "name": "stdout",
          "text": [
            "[2 1 0 0 0 1 2 2 1 0 1 2 2 1]\n"
          ]
        }
      ]
    },
    {
      "cell_type": "code",
      "source": [
        "label = le.fit_transform(pants)\n",
        "print(label)\n",
        "# 'short' : 1 / 'long' : 0"
      ],
      "metadata": {
        "colab": {
          "base_uri": "https://localhost:8080/"
        },
        "id": "UTcdfR4odioU",
        "outputId": "785721cb-9391-46fd-d962-870a030df0b4"
      },
      "execution_count": 5,
      "outputs": [
        {
          "output_type": "stream",
          "name": "stdout",
          "text": [
            "[1 1 0 0 0 1 0 1 1 0 1 0 0 1]\n"
          ]
        }
      ]
    },
    {
      "cell_type": "code",
      "source": [
        "# 날씨/ 기온 => 문제\n",
        "# 바지 => 정답\n",
        "# encoding된 weather와 temp를 결합\n",
        "\n",
        "features = zip(weather_encoder, temp_encoder)\n",
        "features = list(features)\n",
        "print(features)"
      ],
      "metadata": {
        "colab": {
          "base_uri": "https://localhost:8080/"
        },
        "id": "rX2LtbgWdu1c",
        "outputId": "9581f87b-57bf-4e04-d308-1090b90c9ca1"
      },
      "execution_count": 6,
      "outputs": [
        {
          "output_type": "stream",
          "name": "stdout",
          "text": [
            "[(2, 2), (2, 1), (0, 0), (1, 0), (0, 0), (1, 1), (1, 2), (2, 2), (0, 1), (0, 0), (1, 1), (2, 2), (1, 2), (2, 1)]\n"
          ]
        }
      ]
    },
    {
      "cell_type": "code",
      "source": [
        "# 모델 만들기 => 데이터들을 훈련 => 성능 평가\n",
        "from sklearn.naive_bayes import GaussianNB\n",
        "\n",
        "# Naive Bayes : 각각의 특성을 개별적으로 취급해서 학습을 시키고 그 특성에서 클래스별 통계를 취합\n",
        "# GaussianNB : 연속적으로 나오는 데이터가 있다면 적용\n",
        "# BernoulliNB : 이진(Binary) 데이터에 적용\n",
        "# MultinomialNB : 카운트 데이터 적용\n",
        "\n",
        "# 모델 만들기\n",
        "model = GaussianNB()\n",
        "\n",
        "# 데이터 훈련\n",
        "model.fit(features, label)\n",
        "\n",
        "# 성능 평가\n",
        "predict = model.predict([[1, 0]]) # 눈이 오고 추운날에는 무슨 바지를 입어야 할까?\n",
        "print(predict)    # 'long' 긴 바지"
      ],
      "metadata": {
        "colab": {
          "base_uri": "https://localhost:8080/"
        },
        "id": "4rt2xQV6eRot",
        "outputId": "553d7c32-9dbd-488e-d228-854cb1450e57"
      },
      "execution_count": 7,
      "outputs": [
        {
          "output_type": "stream",
          "name": "stdout",
          "text": [
            "[0]\n"
          ]
        }
      ]
    },
    {
      "cell_type": "markdown",
      "source": [
        "# 장점 :\n",
        "1. data의 양이 클 때 도움\n",
        "2. 간단하고, 빠르고, 정확\n",
        "\n",
        "# 단점 :\n",
        "1. Feature간의 독립성이 필수 => 각 특성간에 상관관계가 서로 없어야 함"
      ],
      "metadata": {
        "id": "8Gm2I_UjgLB-"
      }
    },
    {
      "cell_type": "code",
      "source": [
        "from sklearn import datasets\n",
        "\n",
        "iris = datasets.load_iris()\n",
        "print(type(iris))\n",
        "# Bunch 클래스 : {'data' : [], 'target' : []}\n",
        "#   : 파이썬의 dict와 유사한 클래스, 데이터셋에 내장되어있는 데이터들은 Bunch클래스를 return\n",
        "#   data : features / target : label\n",
        "\n",
        "print(iris.data.shape) # (150, 4) : 150개의 행, 4개의 열(변수, columns)\n",
        "print()\n",
        "print(iris.feature_names)\n",
        "# sepal length (cm)', 'sepal width (cm)', 'petal length (cm)', 'petal width (cm)'\n",
        "#   sepal : 꽃받침 / petal : 꽃잎\n",
        "print()\n",
        "print(iris.target_names)\n",
        "# 'setosa' 'versicolor' 'virginica' / 붓꽃의 종류"
      ],
      "metadata": {
        "colab": {
          "base_uri": "https://localhost:8080/"
        },
        "id": "7mAJwW-ofzMt",
        "outputId": "332e7f0c-ab0f-4b4c-b3e4-d111a379acd7"
      },
      "execution_count": 8,
      "outputs": [
        {
          "output_type": "stream",
          "name": "stdout",
          "text": [
            "<class 'sklearn.utils._bunch.Bunch'>\n",
            "(150, 4)\n",
            "\n",
            "['sepal length (cm)', 'sepal width (cm)', 'petal length (cm)', 'petal width (cm)']\n",
            "\n",
            "['setosa' 'versicolor' 'virginica']\n"
          ]
        }
      ]
    },
    {
      "cell_type": "code",
      "source": [
        "from sklearn.model_selection import train_test_split\n",
        "\n",
        "X = iris.data\n",
        "y = iris.target\n",
        "\n",
        "X_train, X_test, y_train, y_test = train_test_split(X, y, test_size=0.2, random_state=104)"
      ],
      "metadata": {
        "id": "j7vVeZahmG55"
      },
      "execution_count": 10,
      "outputs": []
    },
    {
      "cell_type": "code",
      "source": [
        "from sklearn.naive_bayes import GaussianNB\n",
        "gs = GaussianNB()"
      ],
      "metadata": {
        "id": "qLAcAqHtmhGm"
      },
      "execution_count": 11,
      "outputs": []
    },
    {
      "cell_type": "code",
      "source": [
        "# 예측\n",
        "predict = gs.fit(X_train, y_train).predict(X_test)\n",
        "print(predict)\n",
        "print(y_test)"
      ],
      "metadata": {
        "colab": {
          "base_uri": "https://localhost:8080/"
        },
        "id": "_izHyrwmm8Jn",
        "outputId": "cbca3c22-b8db-42e3-e72e-cfd2247dc8a8"
      },
      "execution_count": 12,
      "outputs": [
        {
          "output_type": "stream",
          "name": "stdout",
          "text": [
            "[0 0 0 1 1 1 1 2 1 0 0 1 1 2 1 0 1 1 2 0 1 0 2 0 2 1 0 0 0 1]\n",
            "[0 0 0 1 2 1 1 2 1 0 0 1 1 2 1 0 1 1 2 0 1 0 2 0 2 1 0 0 0 1]\n"
          ]
        }
      ]
    },
    {
      "cell_type": "code",
      "source": [
        "print(X_test.shape[0])\n",
        "# 실제 테스트용 정답과 예측이 같지 않은 부분의 수의 합계를 내서 출력\n",
        "print((y_test != predict).sum()) # 예측이 다른것의 갯수 1개 => 꽤나 정확함"
      ],
      "metadata": {
        "colab": {
          "base_uri": "https://localhost:8080/"
        },
        "id": "5CyjjwAvnHTW",
        "outputId": "47fed888-2037-45cc-c7d1-be8e6df327b0"
      },
      "execution_count": 15,
      "outputs": [
        {
          "output_type": "stream",
          "name": "stdout",
          "text": [
            "30\n",
            "1\n"
          ]
        }
      ]
    }
  ]
}
