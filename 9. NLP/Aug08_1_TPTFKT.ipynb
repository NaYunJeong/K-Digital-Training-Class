{
  "nbformat": 4,
  "nbformat_minor": 0,
  "metadata": {
    "colab": {
      "provenance": [],
      "authorship_tag": "ABX9TyOE7DcnfcoH4Y7urniM0i8v",
      "include_colab_link": true
    },
    "kernelspec": {
      "name": "python3",
      "display_name": "Python 3"
    },
    "language_info": {
      "name": "python"
    }
  },
  "cells": [
    {
      "cell_type": "markdown",
      "metadata": {
        "id": "view-in-github",
        "colab_type": "text"
      },
      "source": [
        "<a href=\"https://colab.research.google.com/github/NaYunJeong/K-Digital-Training-Class/blob/main/Aug08_1_TPTFKT.ipynb\" target=\"_parent\"><img src=\"https://colab.research.google.com/assets/colab-badge.svg\" alt=\"Open In Colab\"/></a>"
      ]
    },
    {
      "cell_type": "markdown",
      "source": [
        "# TPTFKT (Text Preprocessing Tools For Korean Text) : 한국어 전처리 패키지\n",
        "\n",
        "# PyKoSpacing\n",
        "\n",
        "파이썬에서 한국어 띄어쓰기 해주는 패키지"
      ],
      "metadata": {
        "id": "SzuHj4KQginY"
      }
    },
    {
      "cell_type": "code",
      "execution_count": 1,
      "metadata": {
        "colab": {
          "base_uri": "https://localhost:8080/"
        },
        "id": "RuGW4UGsgXgs",
        "outputId": "661e9718-031d-462e-d7f2-dedefbbd3b69"
      },
      "outputs": [
        {
          "output_type": "stream",
          "name": "stdout",
          "text": [
            "Collecting git+https://github.com/haven-jeon/PyKoSpacing.git\n",
            "  Cloning https://github.com/haven-jeon/PyKoSpacing.git to /tmp/pip-req-build-2b0a2ehi\n",
            "  Running command git clone --filter=blob:none --quiet https://github.com/haven-jeon/PyKoSpacing.git /tmp/pip-req-build-2b0a2ehi\n",
            "  Resolved https://github.com/haven-jeon/PyKoSpacing.git to commit b32a889cbd10b006d2f4aba118f0cd5b677e2979\n",
            "  Preparing metadata (setup.py) ... \u001b[?25l\u001b[?25hdone\n",
            "Collecting argument\n",
            "  Downloading argument-1.4.0.tar.gz (4.6 kB)\n",
            "  Preparing metadata (setup.py) ... \u001b[?25l\u001b[?25hdone\n",
            "Building wheels for collected packages: argument, pykospacing\n",
            "  Building wheel for argument (setup.py) ... \u001b[?25l\u001b[?25hdone\n",
            "  Created wheel for argument: filename=argument-1.4.0-py3-none-any.whl size=5662 sha256=e2a02c8ea08e41f5e4d77c5976c21f2a8857f5546bf8599394fe844b062d12a0\n",
            "  Stored in directory: /root/.cache/pip/wheels/96/e4/24/16286476433011a8a2cb42be418e9a2fee32e7b0285bb0ced7\n",
            "  Building wheel for pykospacing (setup.py) ... \u001b[?25l\u001b[?25hdone\n",
            "  Created wheel for pykospacing: filename=pykospacing-0.5-py3-none-any.whl size=2286920 sha256=2dce6092b03831bbdb9cad032a929b13a73d0e5e3bbb71ddfe7ed404fe37dd2c\n",
            "  Stored in directory: /tmp/pip-ephem-wheel-cache-8_0ja2y_/wheels/76/b3/33/dda14886ee76b8e53eb05580a14dfcf9145e9eb9d282c53f28\n",
            "Successfully built argument pykospacing\n",
            "Installing collected packages: argument, pykospacing\n",
            "Successfully installed argument-1.4.0 pykospacing-0.5\n"
          ]
        }
      ],
      "source": [
        "!pip install --no-deps argument git+https://github.com/haven-jeon/PyKoSpacing.git"
      ]
    },
    {
      "cell_type": "code",
      "source": [
        "sentence = \"\"\"두산베어스(사장 고영섭)가 서울 잠실 야구장에서, 2024 홈 관중 100만 명 달성을 기념하여 특별 이벤트를 개최한다. 지난 3일 기준, 누적 관중 수는 95만 3,965명으로 목표 달성이 임박해 팬들의 기대를 모으고 있다. 이번 이벤트는 경품 증정, 할인 행사 등 다채로운 혜택으로 팬들에게 감사의 마음을 전한다. 이번 이벤트는 두산베어스가 홈 관중 100만 명 돌파를 기념하여 특별히 마련한 행사로, 팬들에게 다양한 경품과 혜택을 제공한다. 첫 번째로, 홈 관중 100만 명 돌파를 기념하는 ‘두산 베어스 참’을 증정하는 이벤트가 진행된다. 이 참 장식물은 SNS를 통해 디자인이 발표될 예정이다. 경품으로는 이스타항공 전 노선 2인 왕복 항공권, 한국타이어 타이어 교환권, 오크우드 프리미어 서울 숙박권 등 상품들이 준비되어 있다. 또한, 다양한 팬 서비스로 메가박스 영화 예매권, 원마운트 이용권, 스몹 이용권 등이 제공된다. 이외에도 두산베어스는 팬들을 위한 특별한 할인 행사를 준비했다. 위팬과 인터파크 트리플에서 모자, 의류, 팀상품 등 다양한 품목에 대해 최대 50%까지 할인 혜택을 제공한다. 이를 통해 팬들은 더욱 저렴한 가격에 상품을 구매할 수 있게 되었다. 이번 홈 관중 100만 명 돌파 기념 이벤트는 두산베어스와 팬들 간의 유대감을 더욱 강화하는 계기가 될 것이다. 향후 두산 베어스는 지속적인 팬 서비스 강화와 함께, 경기 외적인 다양한 이벤트를 통해 팬들과의 소통을 이어갈 예정이다. 팬들의 높은 관심과 참여가 예상되는 가운데, 이번 이벤트가 두산베어스의 팬층을 더욱 두텁게 하는 기회가 될 것으로 보인다.\"\"\"\n",
        "sentence"
      ],
      "metadata": {
        "colab": {
          "base_uri": "https://localhost:8080/",
          "height": 237
        },
        "id": "Rm-7hC49hB_R",
        "outputId": "011bb138-0ada-406a-a69f-69bdcfa5b645"
      },
      "execution_count": 2,
      "outputs": [
        {
          "output_type": "execute_result",
          "data": {
            "text/plain": [
              "'두산베어스(사장 고영섭)가 서울 잠실 야구장에서, 2024 홈 관중 100만 명 달성을 기념하여 특별 이벤트를 개최한다. 지난 3일 기준, 누적 관중 수는 95만 3,965명으로 목표 달성이 임박해 팬들의 기대를 모으고 있다. 이번 이벤트는 경품 증정, 할인 행사 등 다채로운 혜택으로 팬들에게 감사의 마음을 전한다. 이번 이벤트는 두산베어스가 홈 관중 100만 명 돌파를 기념하여 특별히 마련한 행사로, 팬들에게 다양한 경품과 혜택을 제공한다. 첫 번째로, 홈 관중 100만 명 돌파를 기념하는 ‘두산 베어스 참’을 증정하는 이벤트가 진행된다. 이 참 장식물은 SNS를 통해 디자인이 발표될 예정이다. 경품으로는 이스타항공 전 노선 2인 왕복 항공권, 한국타이어 타이어 교환권, 오크우드 프리미어 서울 숙박권 등 상품들이 준비되어 있다. 또한, 다양한 팬 서비스로 메가박스 영화 예매권, 원마운트 이용권, 스몹 이용권 등이 제공된다. 이외에도 두산베어스는 팬들을 위한 특별한 할인 행사를 준비했다. 위팬과 인터파크 트리플에서 모자, 의류, 팀상품 등 다양한 품목에 대해 최대 50%까지 할인 혜택을 제공한다. 이를 통해 팬들은 더욱 저렴한 가격에 상품을 구매할 수 있게 되었다. 이번 홈 관중 100만 명 돌파 기념 이벤트는 두산베어스와 팬들 간의 유대감을 더욱 강화하는 계기가 될 것이다. 향후 두산 베어스는 지속적인 팬 서비스 강화와 함께, 경기 외적인 다양한 이벤트를 통해 팬들과의 소통을 이어갈 예정이다. 팬들의 높은 관심과 참여가 예상되는 가운데, 이번 이벤트가 두산베어스의 팬층을 더욱 두텁게 하는 기회가 될 것으로 보인다.'"
            ],
            "application/vnd.google.colaboratory.intrinsic+json": {
              "type": "string"
            }
          },
          "metadata": {},
          "execution_count": 2
        }
      ]
    },
    {
      "cell_type": "code",
      "source": [
        "sentence2 = sentence.replace(\" \", \"\")   # 띄어쓰기 없애기\n",
        "sentence2"
      ],
      "metadata": {
        "colab": {
          "base_uri": "https://localhost:8080/",
          "height": 219
        },
        "id": "L4VveuNjhjvZ",
        "outputId": "0f07fb71-9009-42b1-ac5e-4f048d628757"
      },
      "execution_count": 3,
      "outputs": [
        {
          "output_type": "execute_result",
          "data": {
            "text/plain": [
              "'두산베어스(사장고영섭)가서울잠실야구장에서,2024홈관중100만명달성을기념하여특별이벤트를개최한다.지난3일기준,누적관중수는95만3,965명으로목표달성이임박해팬들의기대를모으고있다.이번이벤트는경품증정,할인행사등다채로운혜택으로팬들에게감사의마음을전한다.이번이벤트는두산베어스가홈관중100만명돌파를기념하여특별히마련한행사로,팬들에게다양한경품과혜택을제공한다.첫번째로,홈관중100만명돌파를기념하는‘두산베어스참’을증정하는이벤트가진행된다.이참장식물은SNS를통해디자인이발표될예정이다.경품으로는이스타항공전노선2인왕복항공권,한국타이어타이어교환권,오크우드프리미어서울숙박권등상품들이준비되어있다.또한,다양한팬서비스로메가박스영화예매권,원마운트이용권,스몹이용권등이제공된다.이외에도두산베어스는팬들을위한특별한할인행사를준비했다.위팬과인터파크트리플에서모자,의류,팀상품등다양한품목에대해최대50%까지할인혜택을제공한다.이를통해팬들은더욱저렴한가격에상품을구매할수있게되었다.이번홈관중100만명돌파기념이벤트는두산베어스와팬들간의유대감을더욱강화하는계기가될것이다.향후두산베어스는지속적인팬서비스강화와함께,경기외적인다양한이벤트를통해팬들과의소통을이어갈예정이다.팬들의높은관심과참여가예상되는가운데,이번이벤트가두산베어스의팬층을더욱두텁게하는기회가될것으로보인다.'"
            ],
            "application/vnd.google.colaboratory.intrinsic+json": {
              "type": "string"
            }
          },
          "metadata": {},
          "execution_count": 3
        }
      ]
    },
    {
      "cell_type": "code",
      "source": [
        "from pykospacing import Spacing"
      ],
      "metadata": {
        "id": "FqOOzDUZhqY_"
      },
      "execution_count": 4,
      "outputs": []
    },
    {
      "cell_type": "code",
      "source": [
        "spacing = Spacing()\n",
        "s = spacing(sentence2)\n",
        "\n",
        "print(sentence)\n",
        "print()\n",
        "print(s)"
      ],
      "metadata": {
        "colab": {
          "base_uri": "https://localhost:8080/"
        },
        "id": "7JxcISiuhu9X",
        "outputId": "6e11de7c-43c3-4b6a-d5e7-3be29cf4f761"
      },
      "execution_count": 5,
      "outputs": [
        {
          "output_type": "stream",
          "name": "stdout",
          "text": [
            "두산베어스(사장 고영섭)가 서울 잠실 야구장에서, 2024 홈 관중 100만 명 달성을 기념하여 특별 이벤트를 개최한다. 지난 3일 기준, 누적 관중 수는 95만 3,965명으로 목표 달성이 임박해 팬들의 기대를 모으고 있다. 이번 이벤트는 경품 증정, 할인 행사 등 다채로운 혜택으로 팬들에게 감사의 마음을 전한다. 이번 이벤트는 두산베어스가 홈 관중 100만 명 돌파를 기념하여 특별히 마련한 행사로, 팬들에게 다양한 경품과 혜택을 제공한다. 첫 번째로, 홈 관중 100만 명 돌파를 기념하는 ‘두산 베어스 참’을 증정하는 이벤트가 진행된다. 이 참 장식물은 SNS를 통해 디자인이 발표될 예정이다. 경품으로는 이스타항공 전 노선 2인 왕복 항공권, 한국타이어 타이어 교환권, 오크우드 프리미어 서울 숙박권 등 상품들이 준비되어 있다. 또한, 다양한 팬 서비스로 메가박스 영화 예매권, 원마운트 이용권, 스몹 이용권 등이 제공된다. 이외에도 두산베어스는 팬들을 위한 특별한 할인 행사를 준비했다. 위팬과 인터파크 트리플에서 모자, 의류, 팀상품 등 다양한 품목에 대해 최대 50%까지 할인 혜택을 제공한다. 이를 통해 팬들은 더욱 저렴한 가격에 상품을 구매할 수 있게 되었다. 이번 홈 관중 100만 명 돌파 기념 이벤트는 두산베어스와 팬들 간의 유대감을 더욱 강화하는 계기가 될 것이다. 향후 두산 베어스는 지속적인 팬 서비스 강화와 함께, 경기 외적인 다양한 이벤트를 통해 팬들과의 소통을 이어갈 예정이다. 팬들의 높은 관심과 참여가 예상되는 가운데, 이번 이벤트가 두산베어스의 팬층을 더욱 두텁게 하는 기회가 될 것으로 보인다.\n",
            "\n",
            "두산베어스(사장 고영섭)가 서울 잠실야구장에서, 2024 홈 관중 100만명 달성을 기념하여 특별 이벤트를 개최한다. 지난 3일 기준, 누적관중수는 95만3,965명으로 목표 달성이 임박해 팬들의 기대를 모으고 있다. 이번 이벤트는 경품 증정, 할인행사 등 다채로운 혜택으로 팬들에게 감사의 마음을 전한다. 이번 이벤트는 두산 베어스가 홈 관중 100만명 돌파를 기념하여 특별히 마련한 행사로, 팬들에게 다양한 경품과 혜택을 제공한다. 첫 번째로, 홈 관중 100만명 돌파를 기념하는 ‘두산 베어스 참’을 증정하는 이벤트가 진행된다.이 참 장식물은 SNS를 통해 디자인이 발표될 예정이다. 경품으로는 이스타항공 전 노선 2인 왕복 항공권, 한국타이어 타이어 교환권, 오크우드 프리미어 서울 숙박권 등 상품들이 준비되어 있다. 또한, 다양한 팬서비스로 메가박스 영화 예매권, 원마운트 이용권, 스몹 이용권 등이 제공된다. 이외에도 두산 베어스는 팬들을 위한 특별한 할인행사를 준비했다. 위팬과 인터파크 트리플에서 모 자, 의류, 팀 상품 등 다양한 품목에 대해 최대 50%까지 할인 혜택을 제공한다.이를 통해 팬들은 더욱 저렴한 가격에 상품을 구매할 수 있게 되었다. 이번 홈 관중 100만명 돌파 기념 이벤트는 두산 베어스와 팬들 간의 유대감을 더욱 강화하는 계기가 될 것이다. 향후 두산 베어스는 지속적인 팬서비스 강화와 함께, 경기 외적인 다양한 이벤트를 통해 팬들과의 소통을 이어갈 예정이다. 팬들의 높은 관심과 참여가 예상되는 가운데, 이번 이벤트가 두산 베어스의 팬층을 더욱 두텁게 하는 기회가 될 것으로 보인다.\n"
          ]
        }
      ]
    },
    {
      "cell_type": "code",
      "source": [
        "!pip install soynlp"
      ],
      "metadata": {
        "colab": {
          "base_uri": "https://localhost:8080/"
        },
        "id": "lNzNx5q-h-E4",
        "outputId": "f6e950ff-d10f-4480-d286-bf77a014e306"
      },
      "execution_count": 6,
      "outputs": [
        {
          "output_type": "stream",
          "name": "stdout",
          "text": [
            "Collecting soynlp\n",
            "  Downloading soynlp-0.0.493-py3-none-any.whl.metadata (24 kB)\n",
            "Requirement already satisfied: numpy>=1.12.1 in /usr/local/lib/python3.10/dist-packages (from soynlp) (1.26.4)\n",
            "Requirement already satisfied: psutil>=5.0.1 in /usr/local/lib/python3.10/dist-packages (from soynlp) (5.9.5)\n",
            "Requirement already satisfied: scipy>=1.1.0 in /usr/local/lib/python3.10/dist-packages (from soynlp) (1.13.1)\n",
            "Requirement already satisfied: scikit-learn>=0.20.0 in /usr/local/lib/python3.10/dist-packages (from soynlp) (1.3.2)\n",
            "Requirement already satisfied: joblib>=1.1.1 in /usr/local/lib/python3.10/dist-packages (from scikit-learn>=0.20.0->soynlp) (1.4.2)\n",
            "Requirement already satisfied: threadpoolctl>=2.0.0 in /usr/local/lib/python3.10/dist-packages (from scikit-learn>=0.20.0->soynlp) (3.5.0)\n",
            "Downloading soynlp-0.0.493-py3-none-any.whl (416 kB)\n",
            "\u001b[?25l   \u001b[90m━━━━━━━━━━━━━━━━━━━━━━━━━━━━━━━━━━━━━━━━\u001b[0m \u001b[32m0.0/416.8 kB\u001b[0m \u001b[31m?\u001b[0m eta \u001b[36m-:--:--\u001b[0m\r\u001b[2K   \u001b[90m━━━━━━━━━━━━━━━━━━━━━━━━━━━━━━━━━━━━━━━━\u001b[0m \u001b[32m416.8/416.8 kB\u001b[0m \u001b[31m20.8 MB/s\u001b[0m eta \u001b[36m0:00:00\u001b[0m\n",
            "\u001b[?25hInstalling collected packages: soynlp\n",
            "Successfully installed soynlp-0.0.493\n"
          ]
        }
      ]
    },
    {
      "cell_type": "code",
      "source": [
        "from soynlp.normalizer import *"
      ],
      "metadata": {
        "id": "nopn1oU1iw5w"
      },
      "execution_count": 7,
      "outputs": []
    },
    {
      "cell_type": "code",
      "source": [
        "# SNS나 채팅의 경우 'ㅋㅋㅋㅋㅋㅋㅋㅋㅋ', 'ㅎㅎㅎㅎㅎㅎㅎㅎㅎㅎㅎ' 같이\n",
        "# 불필요하게 연속되는 경우가 꽤나 많은데\n",
        "# 반복되는 것들을 하나로 정규화시켜줄 수 있음\n",
        "print(emoticon_normalize('ㅋㅋㅋㅋㅋㅋㅋㅋㅋㅋ앜ㅋㅋㅋㅋㅋㅋㅋㅋㅋㅋ', num_repeats=2))\n",
        "print(emoticon_normalize('ㅎㅎㅎㅎㅎㅎㅎㅎㅎㅎ앜ㅋㅋㅋㅋㅋㅋㅋㅋㅋㅋ', num_repeats=2))\n",
        "print(emoticon_normalize('ㅠㅠㅠㅠㅠㅠㅠㅠㅠㅠ앜ㅋㅋㅋㅋㅋㅋㅋㅋㅋㅋ', num_repeats=2))\n",
        "print(emoticon_normalize('ㅜㅜㅜ앜ㅋㅋㅋㅋㅋㅋㅋㅋㅋㅋ', num_repeats=2))"
      ],
      "metadata": {
        "colab": {
          "base_uri": "https://localhost:8080/"
        },
        "id": "1QUuJhXUi3zY",
        "outputId": "630bfe68-9f54-4e6a-d3ab-290c4dbcf117"
      },
      "execution_count": 11,
      "outputs": [
        {
          "output_type": "stream",
          "name": "stdout",
          "text": [
            "ㅋㅋ아ㅋㅋ\n",
            "ㅎㅎ아ㅋㅋ\n",
            "ㅠㅠ아ㅋㅋ\n",
            "ㅜㅜㅜ아ㅋㅋ\n"
          ]
        }
      ]
    },
    {
      "cell_type": "code",
      "source": [
        "print(emoticon_normalize('으하하하하하하하하하하핫', num_repeats=3))\n",
        "print(emoticon_normalize('으하하하하하하하하하하핫', num_repeats=2))\n",
        "print(emoticon_normalize('으히히히히히히히히힣', num_repeats=5))"
      ],
      "metadata": {
        "colab": {
          "base_uri": "https://localhost:8080/"
        },
        "id": "F0Xzt7ImjgES",
        "outputId": "153423cd-7e06-435d-8e81-acd726242f77"
      },
      "execution_count": 12,
      "outputs": [
        {
          "output_type": "stream",
          "name": "stdout",
          "text": [
            "으하하하핫\n",
            "으하하핫\n",
            "으히히히히히힣\n"
          ]
        }
      ]
    },
    {
      "cell_type": "code",
      "source": [
        "# Konlpy의 커스터마이즈 버전\n",
        "!pip install customized_konlpy"
      ],
      "metadata": {
        "colab": {
          "base_uri": "https://localhost:8080/"
        },
        "id": "XOtPdj6Oj-Wx",
        "outputId": "c08d766d-8994-4714-f7d3-5b96a285168f"
      },
      "execution_count": 13,
      "outputs": [
        {
          "output_type": "stream",
          "name": "stdout",
          "text": [
            "Collecting customized_konlpy\n",
            "  Downloading customized_konlpy-0.0.64-py3-none-any.whl.metadata (10 kB)\n",
            "Collecting Jpype1>=0.6.1 (from customized_konlpy)\n",
            "  Downloading JPype1-1.5.0-cp310-cp310-manylinux_2_17_x86_64.manylinux2014_x86_64.whl.metadata (4.9 kB)\n",
            "Collecting konlpy>=0.4.4 (from customized_konlpy)\n",
            "  Downloading konlpy-0.6.0-py2.py3-none-any.whl.metadata (1.9 kB)\n",
            "Requirement already satisfied: packaging in /usr/local/lib/python3.10/dist-packages (from Jpype1>=0.6.1->customized_konlpy) (24.1)\n",
            "Requirement already satisfied: lxml>=4.1.0 in /usr/local/lib/python3.10/dist-packages (from konlpy>=0.4.4->customized_konlpy) (4.9.4)\n",
            "Requirement already satisfied: numpy>=1.6 in /usr/local/lib/python3.10/dist-packages (from konlpy>=0.4.4->customized_konlpy) (1.26.4)\n",
            "Downloading customized_konlpy-0.0.64-py3-none-any.whl (881 kB)\n",
            "\u001b[2K   \u001b[90m━━━━━━━━━━━━━━━━━━━━━━━━━━━━━━━━━━━━━━━━\u001b[0m \u001b[32m881.5/881.5 kB\u001b[0m \u001b[31m32.3 MB/s\u001b[0m eta \u001b[36m0:00:00\u001b[0m\n",
            "\u001b[?25hDownloading JPype1-1.5.0-cp310-cp310-manylinux_2_17_x86_64.manylinux2014_x86_64.whl (488 kB)\n",
            "\u001b[2K   \u001b[90m━━━━━━━━━━━━━━━━━━━━━━━━━━━━━━━━━━━━━━━━\u001b[0m \u001b[32m488.6/488.6 kB\u001b[0m \u001b[31m26.2 MB/s\u001b[0m eta \u001b[36m0:00:00\u001b[0m\n",
            "\u001b[?25hDownloading konlpy-0.6.0-py2.py3-none-any.whl (19.4 MB)\n",
            "\u001b[2K   \u001b[90m━━━━━━━━━━━━━━━━━━━━━━━━━━━━━━━━━━━━━━━━\u001b[0m \u001b[32m19.4/19.4 MB\u001b[0m \u001b[31m49.0 MB/s\u001b[0m eta \u001b[36m0:00:00\u001b[0m\n",
            "\u001b[?25hInstalling collected packages: Jpype1, konlpy, customized_konlpy\n",
            "Successfully installed Jpype1-1.5.0 customized_konlpy-0.0.64 konlpy-0.6.0\n"
          ]
        }
      ]
    },
    {
      "cell_type": "code",
      "source": [
        "from ckonlpy.tag import Twitter"
      ],
      "metadata": {
        "id": "B__QAE1zkH8Q"
      },
      "execution_count": 14,
      "outputs": []
    },
    {
      "cell_type": "code",
      "source": [
        "twitter = Twitter()\n",
        "twitter.morphs(\"친구들은 나를 비버야 라고 불러요\")"
      ],
      "metadata": {
        "colab": {
          "base_uri": "https://localhost:8080/"
        },
        "id": "irTgDKCFkS7I",
        "outputId": "f965360a-af36-4666-8ceb-c9efa66e42b2"
      },
      "execution_count": 15,
      "outputs": [
        {
          "output_type": "stream",
          "name": "stderr",
          "text": [
            "/usr/local/lib/python3.10/dist-packages/konlpy/tag/_okt.py:17: UserWarning: \"Twitter\" has changed to \"Okt\" since KoNLPy v0.4.5.\n",
            "  warn('\"Twitter\" has changed to \"Okt\" since KoNLPy v0.4.5.')\n"
          ]
        },
        {
          "output_type": "execute_result",
          "data": {
            "text/plain": [
              "['친', '구들', '은', '나를', '비버', '야', '라고', '불러요']"
            ]
          },
          "metadata": {},
          "execution_count": 15
        }
      ]
    },
    {
      "cell_type": "code",
      "source": [
        "# add_dictionary('정할 단어', '품사')\n",
        "twitter.add_dictionary('친구들', 'Noun')"
      ],
      "metadata": {
        "id": "eBWCv54ykg_o"
      },
      "execution_count": 16,
      "outputs": []
    },
    {
      "cell_type": "code",
      "source": [
        "twitter.morphs(\"친구들은 나를 돼지야 라고 불러요\")"
      ],
      "metadata": {
        "colab": {
          "base_uri": "https://localhost:8080/"
        },
        "id": "fGWuzFIqk5Xo",
        "outputId": "39eaeffd-a405-470a-c1bf-3c81fc05f10b"
      },
      "execution_count": 17,
      "outputs": [
        {
          "output_type": "execute_result",
          "data": {
            "text/plain": [
              "['친구들', '은', '나를', '돼지', '야', '라고', '불러요']"
            ]
          },
          "metadata": {},
          "execution_count": 17
        }
      ]
    },
    {
      "cell_type": "code",
      "source": [
        "twitter.tagset # 품사 종류 확인"
      ],
      "metadata": {
        "colab": {
          "base_uri": "https://localhost:8080/"
        },
        "id": "Ok63x6MNk_JQ",
        "outputId": "1b38e02b-4cd4-4677-cd61-72ec08c70cb9"
      },
      "execution_count": 18,
      "outputs": [
        {
          "output_type": "execute_result",
          "data": {
            "text/plain": [
              "{'Adjective': '형용사',\n",
              " 'Adverb': '부사',\n",
              " 'Alpha': '알파벳',\n",
              " 'Conjunction': '접속사',\n",
              " 'Determiner': '관형사',\n",
              " 'Eomi': '어미',\n",
              " 'Exclamation': '감탄사',\n",
              " 'Foreign': '외국어, 한자 및 기타기호',\n",
              " 'Hashtag': '트위터 해쉬태그',\n",
              " 'Josa': '조사',\n",
              " 'KoreanParticle': '(ex: ㅋㅋ)',\n",
              " 'Noun': '명사',\n",
              " 'Number': '숫자',\n",
              " 'Modifier': '관형사',\n",
              " 'PreEomi': '선어말어미',\n",
              " 'Punctuation': '구두점',\n",
              " 'ScreenName': '트위터 아이디',\n",
              " 'Suffix': '접미사',\n",
              " 'Unknown': '미등록어',\n",
              " 'Verb': '동사'}"
            ]
          },
          "metadata": {},
          "execution_count": 18
        }
      ]
    }
  ]
}
